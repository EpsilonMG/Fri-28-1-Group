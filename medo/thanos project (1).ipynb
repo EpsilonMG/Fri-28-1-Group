{
 "cells": [
  {
   "cell_type": "code",
   "execution_count": 28,
   "metadata": {},
   "outputs": [],
   "source": [
    "import os,random\n",
    "l=os.listdir('universe')\n"
   ]
  },
  {
   "cell_type": "code",
   "execution_count": 29,
   "metadata": {},
   "outputs": [
    {
     "data": {
      "text/plain": [
       "['cover001.png',\n",
       " 'cover002.png',\n",
       " 'cover003.png',\n",
       " 'cover004.png',\n",
       " 'cover005.png',\n",
       " 'cover006.png',\n",
       " 'cover007.png',\n",
       " 'cover008.png',\n",
       " 'cover009.png',\n",
       " 'cover010.png',\n",
       " 'cover011.png',\n",
       " 'cover012.png',\n",
       " 'cover013.png',\n",
       " 'cover014.png',\n",
       " 'cover015.png',\n",
       " 'cover016.png',\n",
       " 'cover017.png',\n",
       " 'cover018.png',\n",
       " 'cover019.png',\n",
       " 'cover020.png',\n",
       " 'cover021.png',\n",
       " 'cover022.png',\n",
       " 'cover023.png',\n",
       " 'cover024.png',\n",
       " 'cover025.png',\n",
       " 'cover026.png',\n",
       " 'cover027.png',\n",
       " 'cover028.png',\n",
       " 'cover029.png',\n",
       " 'cover030.png',\n",
       " 'cover031.png',\n",
       " 'cover032.png',\n",
       " 'cover033.png',\n",
       " 'cover034.png',\n",
       " 'cover035.png',\n",
       " 'cover036.png',\n",
       " 'cover037.png',\n",
       " 'cover038.png',\n",
       " 'cover039.png',\n",
       " 'cover040.png',\n",
       " 'cover041.png',\n",
       " 'cover042.png',\n",
       " 'cover043.png',\n",
       " 'cover044.png',\n",
       " 'cover045.png',\n",
       " 'cover046.png',\n",
       " 'cover047.png',\n",
       " 'cover048.png',\n",
       " 'cover049.png',\n",
       " 'cover050.png']"
      ]
     },
     "execution_count": 29,
     "metadata": {},
     "output_type": "execute_result"
    }
   ],
   "source": [
    "l"
   ]
  },
  {
   "cell_type": "code",
   "execution_count": 30,
   "metadata": {},
   "outputs": [
    {
     "data": {
      "text/plain": [
       "50"
      ]
     },
     "execution_count": 30,
     "metadata": {},
     "output_type": "execute_result"
    }
   ],
   "source": [
    "len(l)"
   ]
  },
  {
   "cell_type": "code",
   "execution_count": 31,
   "metadata": {
    "scrolled": true
   },
   "outputs": [],
   "source": [
    "for i in range(len(l)//2):\n",
    "    file=random.choice(l)\n",
    "    os.remove(f'universe/{file}')\n",
    "    l.remove(file)"
   ]
  },
  {
   "cell_type": "code",
   "execution_count": 32,
   "metadata": {},
   "outputs": [],
   "source": [
    "def files_l(folder):\n",
    "    return os.listdir(folder)"
   ]
  },
  {
   "cell_type": "code",
   "execution_count": 33,
   "metadata": {},
   "outputs": [
    {
     "data": {
      "text/plain": [
       "['cover002.png',\n",
       " 'cover004.png',\n",
       " 'cover008.png',\n",
       " 'cover010.png',\n",
       " 'cover011.png',\n",
       " 'cover012.png',\n",
       " 'cover013.png',\n",
       " 'cover014.png',\n",
       " 'cover019.png',\n",
       " 'cover023.png',\n",
       " 'cover024.png',\n",
       " 'cover027.png',\n",
       " 'cover028.png',\n",
       " 'cover031.png',\n",
       " 'cover032.png',\n",
       " 'cover033.png',\n",
       " 'cover034.png',\n",
       " 'cover036.png',\n",
       " 'cover037.png',\n",
       " 'cover039.png',\n",
       " 'cover040.png',\n",
       " 'cover046.png',\n",
       " 'cover047.png',\n",
       " 'cover048.png',\n",
       " 'cover050.png']"
      ]
     },
     "execution_count": 33,
     "metadata": {},
     "output_type": "execute_result"
    }
   ],
   "source": [
    "l=files_l('universe')\n",
    "l\n",
    "    "
   ]
  },
  {
   "cell_type": "code",
   "execution_count": 34,
   "metadata": {},
   "outputs": [
    {
     "data": {
      "text/plain": [
       "25"
      ]
     },
     "execution_count": 34,
     "metadata": {},
     "output_type": "execute_result"
    }
   ],
   "source": [
    "len(l)"
   ]
  },
  {
   "cell_type": "code",
   "execution_count": null,
   "metadata": {},
   "outputs": [],
   "source": []
  }
 ],
 "metadata": {
  "kernelspec": {
   "display_name": "Python 3",
   "language": "python",
   "name": "python3"
  },
  "language_info": {
   "codemirror_mode": {
    "name": "ipython",
    "version": 3
   },
   "file_extension": ".py",
   "mimetype": "text/x-python",
   "name": "python",
   "nbconvert_exporter": "python",
   "pygments_lexer": "ipython3",
   "version": "3.7.6"
  }
 },
 "nbformat": 4,
 "nbformat_minor": 4
}
