{
 "cells": [
  {
   "cell_type": "code",
   "execution_count": 2,
   "metadata": {},
   "outputs": [],
   "source": [
    "import requests"
   ]
  },
  {
   "cell_type": "code",
   "execution_count": 3,
   "metadata": {},
   "outputs": [
    {
     "data": {
      "text/plain": [
       "b'{\"consolidated_weather\":[{\"id\":4805486747582464,\"weather_state_name\":\"Clear\",\"weather_state_abbr\":\"c\",\"wind_direction_compass\":\"NNE\",\"created\":\"2022-03-17T16:34:22.664554Z\",\"applicable_date\":\"2022-03-17\",\"min_temp\":7.185,\"max_temp\":20.5,\"the_temp\":18.005000000000003,\"wind_speed\":4.91500902008802,\"wind_direction\":23.82721147056669,\"air_pressure\":1025.0,\"humidity\":37,\"visibility\":13.383092738407699,\"predictability\":68},{\"id\":4781219209281536,\"weather_state_name\":\"Clear\",\"weather_state_abbr\":\"c\",\"wind_direction_compass\":\"NNE\",\"created\":\"2022-03-17T16:34:26.153128Z\",\"applicable_date\":\"2022-03-18\",\"min_temp\":8.58,\"max_temp\":23.72,\"the_temp\":20.200000000000003,\"wind_speed\":6.159189382380233,\"wind_direction\":21.501259015430914,\"air_pressure\":1021.5,\"humidity\":46,\"visibility\":12.855548596198203,\"predictability\":68},{\"id\":6488127561531392,\"weather_state_name\":\"Light Cloud\",\"weather_state_abbr\":\"lc\",\"wind_direction_compass\":\"N\",\"created\":\"2022-03-17T16:34:28.564384Z\",\"applicable_date\":\"2022-03-19\",\"min_temp\":9.245000000000001,\"max_temp\":23.525,\"the_temp\":19.965,\"wind_speed\":7.425739254407593,\"wind_direction\":6.926665597963308,\"air_pressure\":1019.5,\"humidity\":46,\"visibility\":13.266896325459317,\"predictability\":70},{\"id\":6485040184688640,\"weather_state_name\":\"Heavy Cloud\",\"weather_state_abbr\":\"hc\",\"wind_direction_compass\":\"NE\",\"created\":\"2022-03-17T16:34:31.588666Z\",\"applicable_date\":\"2022-03-20\",\"min_temp\":10.2,\"max_temp\":21.14,\"the_temp\":19.130000000000003,\"wind_speed\":9.323566802343647,\"wind_direction\":48.31674344019158,\"air_pressure\":1017.0,\"humidity\":47,\"visibility\":13.012134136642011,\"predictability\":71},{\"id\":4806509889323008,\"weather_state_name\":\"Heavy Cloud\",\"weather_state_abbr\":\"hc\",\"wind_direction_compass\":\"NNE\",\"created\":\"2022-03-17T16:34:34.657629Z\",\"applicable_date\":\"2022-03-21\",\"min_temp\":10.125,\"max_temp\":18.655,\"the_temp\":16.55,\"wind_speed\":9.95606306389618,\"wind_direction\":32.5,\"air_pressure\":1013.5,\"humidity\":52,\"visibility\":12.138486240356318,\"predictability\":71},{\"id\":5907119116124160,\"weather_state_name\":\"Light Cloud\",\"weather_state_abbr\":\"lc\",\"wind_direction_compass\":\"WNW\",\"created\":\"2022-03-17T16:34:37.551239Z\",\"applicable_date\":\"2022-03-22\",\"min_temp\":8.629999999999999,\"max_temp\":18.105,\"the_temp\":14.98,\"wind_speed\":6.461744810307803,\"wind_direction\":297.5,\"air_pressure\":1017.0,\"humidity\":42,\"visibility\":9.999726596675416,\"predictability\":70}],\"time\":\"2022-03-17T20:31:21.153225+02:00\",\"sun_rise\":\"2022-03-17T06:02:46.616606+02:00\",\"sun_set\":\"2022-03-17T18:04:26.224643+02:00\",\"timezone_name\":\"LMT\",\"parent\":{\"title\":\"Egypt\",\"location_type\":\"Country\",\"woeid\":23424802,\"latt_long\":\"26.837090,30.796391\"},\"sources\":[{\"title\":\"BBC\",\"slug\":\"bbc\",\"url\":\"http://www.bbc.co.uk/weather/\",\"crawl_rate\":360},{\"title\":\"Forecast.io\",\"slug\":\"forecast-io\",\"url\":\"http://forecast.io/\",\"crawl_rate\":480},{\"title\":\"HAMweather\",\"slug\":\"hamweather\",\"url\":\"http://www.hamweather.com/\",\"crawl_rate\":360},{\"title\":\"Met Office\",\"slug\":\"met-office\",\"url\":\"http://www.metoffice.gov.uk/\",\"crawl_rate\":180},{\"title\":\"OpenWeatherMap\",\"slug\":\"openweathermap\",\"url\":\"http://openweathermap.org/\",\"crawl_rate\":360},{\"title\":\"Weather Underground\",\"slug\":\"wunderground\",\"url\":\"https://www.wunderground.com/?apiref=fc30dc3cd224e19b\",\"crawl_rate\":720},{\"title\":\"World Weather Online\",\"slug\":\"world-weather-online\",\"url\":\"http://www.worldweatheronline.com/\",\"crawl_rate\":360}],\"title\":\"Cairo\",\"location_type\":\"City\",\"woeid\":1521894,\"latt_long\":\"30.049950,31.248600\",\"timezone\":\"Africa/Cairo\"}'"
      ]
     },
     "execution_count": 3,
     "metadata": {},
     "output_type": "execute_result"
    }
   ],
   "source": [
    "response=requests.request('GET','https://www.metaweather.com/api/location/1521894/')\n",
    "response.content\n"
   ]
  },
  {
   "cell_type": "code",
   "execution_count": 4,
   "metadata": {},
   "outputs": [
    {
     "data": {
      "text/plain": [
       "{'consolidated_weather': [{'id': 4805486747582464,\n",
       "   'weather_state_name': 'Clear',\n",
       "   'weather_state_abbr': 'c',\n",
       "   'wind_direction_compass': 'NNE',\n",
       "   'created': '2022-03-17T16:34:22.664554Z',\n",
       "   'applicable_date': '2022-03-17',\n",
       "   'min_temp': 7.185,\n",
       "   'max_temp': 20.5,\n",
       "   'the_temp': 18.005000000000003,\n",
       "   'wind_speed': 4.91500902008802,\n",
       "   'wind_direction': 23.82721147056669,\n",
       "   'air_pressure': 1025.0,\n",
       "   'humidity': 37,\n",
       "   'visibility': 13.383092738407699,\n",
       "   'predictability': 68},\n",
       "  {'id': 4781219209281536,\n",
       "   'weather_state_name': 'Clear',\n",
       "   'weather_state_abbr': 'c',\n",
       "   'wind_direction_compass': 'NNE',\n",
       "   'created': '2022-03-17T16:34:26.153128Z',\n",
       "   'applicable_date': '2022-03-18',\n",
       "   'min_temp': 8.58,\n",
       "   'max_temp': 23.72,\n",
       "   'the_temp': 20.200000000000003,\n",
       "   'wind_speed': 6.159189382380233,\n",
       "   'wind_direction': 21.501259015430914,\n",
       "   'air_pressure': 1021.5,\n",
       "   'humidity': 46,\n",
       "   'visibility': 12.855548596198203,\n",
       "   'predictability': 68},\n",
       "  {'id': 6488127561531392,\n",
       "   'weather_state_name': 'Light Cloud',\n",
       "   'weather_state_abbr': 'lc',\n",
       "   'wind_direction_compass': 'N',\n",
       "   'created': '2022-03-17T16:34:28.564384Z',\n",
       "   'applicable_date': '2022-03-19',\n",
       "   'min_temp': 9.245000000000001,\n",
       "   'max_temp': 23.525,\n",
       "   'the_temp': 19.965,\n",
       "   'wind_speed': 7.425739254407593,\n",
       "   'wind_direction': 6.926665597963308,\n",
       "   'air_pressure': 1019.5,\n",
       "   'humidity': 46,\n",
       "   'visibility': 13.266896325459317,\n",
       "   'predictability': 70},\n",
       "  {'id': 6485040184688640,\n",
       "   'weather_state_name': 'Heavy Cloud',\n",
       "   'weather_state_abbr': 'hc',\n",
       "   'wind_direction_compass': 'NE',\n",
       "   'created': '2022-03-17T16:34:31.588666Z',\n",
       "   'applicable_date': '2022-03-20',\n",
       "   'min_temp': 10.2,\n",
       "   'max_temp': 21.14,\n",
       "   'the_temp': 19.130000000000003,\n",
       "   'wind_speed': 9.323566802343647,\n",
       "   'wind_direction': 48.31674344019158,\n",
       "   'air_pressure': 1017.0,\n",
       "   'humidity': 47,\n",
       "   'visibility': 13.012134136642011,\n",
       "   'predictability': 71},\n",
       "  {'id': 4806509889323008,\n",
       "   'weather_state_name': 'Heavy Cloud',\n",
       "   'weather_state_abbr': 'hc',\n",
       "   'wind_direction_compass': 'NNE',\n",
       "   'created': '2022-03-17T16:34:34.657629Z',\n",
       "   'applicable_date': '2022-03-21',\n",
       "   'min_temp': 10.125,\n",
       "   'max_temp': 18.655,\n",
       "   'the_temp': 16.55,\n",
       "   'wind_speed': 9.95606306389618,\n",
       "   'wind_direction': 32.5,\n",
       "   'air_pressure': 1013.5,\n",
       "   'humidity': 52,\n",
       "   'visibility': 12.138486240356318,\n",
       "   'predictability': 71},\n",
       "  {'id': 5907119116124160,\n",
       "   'weather_state_name': 'Light Cloud',\n",
       "   'weather_state_abbr': 'lc',\n",
       "   'wind_direction_compass': 'WNW',\n",
       "   'created': '2022-03-17T16:34:37.551239Z',\n",
       "   'applicable_date': '2022-03-22',\n",
       "   'min_temp': 8.629999999999999,\n",
       "   'max_temp': 18.105,\n",
       "   'the_temp': 14.98,\n",
       "   'wind_speed': 6.461744810307803,\n",
       "   'wind_direction': 297.5,\n",
       "   'air_pressure': 1017.0,\n",
       "   'humidity': 42,\n",
       "   'visibility': 9.999726596675416,\n",
       "   'predictability': 70}],\n",
       " 'time': '2022-03-17T20:31:21.153225+02:00',\n",
       " 'sun_rise': '2022-03-17T06:02:46.616606+02:00',\n",
       " 'sun_set': '2022-03-17T18:04:26.224643+02:00',\n",
       " 'timezone_name': 'LMT',\n",
       " 'parent': {'title': 'Egypt',\n",
       "  'location_type': 'Country',\n",
       "  'woeid': 23424802,\n",
       "  'latt_long': '26.837090,30.796391'},\n",
       " 'sources': [{'title': 'BBC',\n",
       "   'slug': 'bbc',\n",
       "   'url': 'http://www.bbc.co.uk/weather/',\n",
       "   'crawl_rate': 360},\n",
       "  {'title': 'Forecast.io',\n",
       "   'slug': 'forecast-io',\n",
       "   'url': 'http://forecast.io/',\n",
       "   'crawl_rate': 480},\n",
       "  {'title': 'HAMweather',\n",
       "   'slug': 'hamweather',\n",
       "   'url': 'http://www.hamweather.com/',\n",
       "   'crawl_rate': 360},\n",
       "  {'title': 'Met Office',\n",
       "   'slug': 'met-office',\n",
       "   'url': 'http://www.metoffice.gov.uk/',\n",
       "   'crawl_rate': 180},\n",
       "  {'title': 'OpenWeatherMap',\n",
       "   'slug': 'openweathermap',\n",
       "   'url': 'http://openweathermap.org/',\n",
       "   'crawl_rate': 360},\n",
       "  {'title': 'Weather Underground',\n",
       "   'slug': 'wunderground',\n",
       "   'url': 'https://www.wunderground.com/?apiref=fc30dc3cd224e19b',\n",
       "   'crawl_rate': 720},\n",
       "  {'title': 'World Weather Online',\n",
       "   'slug': 'world-weather-online',\n",
       "   'url': 'http://www.worldweatheronline.com/',\n",
       "   'crawl_rate': 360}],\n",
       " 'title': 'Cairo',\n",
       " 'location_type': 'City',\n",
       " 'woeid': 1521894,\n",
       " 'latt_long': '30.049950,31.248600',\n",
       " 'timezone': 'Africa/Cairo'}"
      ]
     },
     "execution_count": 4,
     "metadata": {},
     "output_type": "execute_result"
    }
   ],
   "source": [
    "data=response.json()\n",
    "data"
   ]
  },
  {
   "cell_type": "code",
   "execution_count": 5,
   "metadata": {},
   "outputs": [
    {
     "data": {
      "text/plain": [
       "dict"
      ]
     },
     "execution_count": 5,
     "metadata": {},
     "output_type": "execute_result"
    }
   ],
   "source": [
    "type(data)"
   ]
  },
  {
   "cell_type": "code",
   "execution_count": 6,
   "metadata": {},
   "outputs": [
    {
     "name": "stdout",
     "output_type": "stream",
     "text": [
      "18.005000000000003 37 13.383092738407699 1025.0 4.91500902008802 2022-03-17\n",
      "20.200000000000003 46 12.855548596198203 1021.5 6.159189382380233 2022-03-18\n",
      "19.965 46 13.266896325459317 1019.5 7.425739254407593 2022-03-19\n",
      "19.130000000000003 47 13.012134136642011 1017.0 9.323566802343647 2022-03-20\n",
      "16.55 52 12.138486240356318 1013.5 9.95606306389618 2022-03-21\n",
      "14.98 42 9.999726596675416 1017.0 6.461744810307803 2022-03-22\n"
     ]
    }
   ],
   "source": [
    "for i in data[\"consolidated_weather\"]:\n",
    "    print(i['the_temp'],i['humidity'],i['visibility'],i['air_pressure'],i['wind_speed'],i['applicable_date'])"
   ]
  },
  {
   "cell_type": "code",
   "execution_count": null,
   "metadata": {},
   "outputs": [],
   "source": []
  },
  {
   "cell_type": "code",
   "execution_count": null,
   "metadata": {},
   "outputs": [],
   "source": []
  },
  {
   "cell_type": "code",
   "execution_count": null,
   "metadata": {},
   "outputs": [],
   "source": []
  },
  {
   "cell_type": "code",
   "execution_count": 7,
   "metadata": {},
   "outputs": [
    {
     "name": "stdout",
     "output_type": "stream",
     "text": [
      "the_temp:18.005000000000003,humidity:37,visibility:13.383092738407699,air_pressure:1025.0,wind_speed:4.91500902008802,applicable_date:2022-03-17\n",
      "the_temp:20.200000000000003,humidity:46,visibility:12.855548596198203,air_pressure:1021.5,wind_speed:6.159189382380233,applicable_date:2022-03-18\n",
      "the_temp:19.965,humidity:46,visibility:13.266896325459317,air_pressure:1019.5,wind_speed:7.425739254407593,applicable_date:2022-03-19\n",
      "the_temp:19.130000000000003,humidity:47,visibility:13.012134136642011,air_pressure:1017.0,wind_speed:9.323566802343647,applicable_date:2022-03-20\n",
      "the_temp:16.55,humidity:52,visibility:12.138486240356318,air_pressure:1013.5,wind_speed:9.95606306389618,applicable_date:2022-03-21\n",
      "the_temp:14.98,humidity:42,visibility:9.999726596675416,air_pressure:1017.0,wind_speed:6.461744810307803,applicable_date:2022-03-22\n"
     ]
    }
   ],
   "source": [
    "for i in data[\"consolidated_weather\"]:\n",
    "    the_temp=i['the_temp']\n",
    "    humidity=i['humidity']\n",
    "    visibility=i['visibility']\n",
    "    air_pressure=i['air_pressure']\n",
    "    wind_speed=i['wind_speed']\n",
    "    applicable_date=i['applicable_date']\n",
    "    print(f'the_temp:{the_temp},humidity:{humidity},visibility:{visibility},air_pressure:{air_pressure},wind_speed:{wind_speed},applicable_date:{applicable_date}')"
   ]
  },
  {
   "cell_type": "code",
   "execution_count": 8,
   "metadata": {},
   "outputs": [],
   "source": [
    "import csv"
   ]
  },
  {
   "cell_type": "code",
   "execution_count": 9,
   "metadata": {},
   "outputs": [],
   "source": [
    "f=open ('weather.csv','w')"
   ]
  },
  {
   "cell_type": "code",
   "execution_count": 10,
   "metadata": {},
   "outputs": [],
   "source": [
    "writer=csv.writer(f)"
   ]
  },
  {
   "cell_type": "code",
   "execution_count": 11,
   "metadata": {},
   "outputs": [
    {
     "data": {
      "text/plain": [
       "70"
      ]
     },
     "execution_count": 11,
     "metadata": {},
     "output_type": "execute_result"
    }
   ],
   "source": [
    "writer.writerow(['the_temp','humidity','visibility','air_pressure','wind_speed','applicable_date'])"
   ]
  },
  {
   "cell_type": "code",
   "execution_count": 12,
   "metadata": {},
   "outputs": [],
   "source": [
    "f.close()"
   ]
  },
  {
   "cell_type": "code",
   "execution_count": 13,
   "metadata": {},
   "outputs": [],
   "source": [
    "with open ('weather.csv','w',newline=\"\") as f:\n",
    "    writer=csv.DictWriter(f,fieldnames=['the_temp','humidity','visibility','air_pressure','wind_speed','applicable_date'])\n",
    "    writer.writeheader()\n",
    "    for i in data[\"consolidated_weather\"]:\n",
    "        the_temp=i['the_temp']\n",
    "        humidity=i['humidity']\n",
    "        visibility=i['visibility']\n",
    "        air_pressure=i['air_pressure']\n",
    "        wind_speed=i['wind_speed']\n",
    "        applicable_date=i['applicable_date']\n",
    "        writer.writerow({'the_temp':the_temp,'humidity':humidity,'visibility':visibility,'air_pressure':air_pressure,'wind_speed':wind_speed,'applicable_date':applicable_date})"
   ]
  },
  {
   "cell_type": "code",
   "execution_count": null,
   "metadata": {},
   "outputs": [],
   "source": []
  },
  {
   "cell_type": "code",
   "execution_count": null,
   "metadata": {},
   "outputs": [],
   "source": []
  },
  {
   "cell_type": "code",
   "execution_count": null,
   "metadata": {},
   "outputs": [],
   "source": []
  }
 ],
 "metadata": {
  "kernelspec": {
   "display_name": "Python 3",
   "language": "python",
   "name": "python3"
  },
  "language_info": {
   "codemirror_mode": {
    "name": "ipython",
    "version": 3
   },
   "file_extension": ".py",
   "mimetype": "text/x-python",
   "name": "python",
   "nbconvert_exporter": "python",
   "pygments_lexer": "ipython3",
   "version": "3.7.6"
  }
 },
 "nbformat": 4,
 "nbformat_minor": 4
}
