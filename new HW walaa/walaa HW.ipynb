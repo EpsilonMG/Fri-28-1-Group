{
 "cells": [
  {
   "cell_type": "code",
   "execution_count": 34,
   "metadata": {},
   "outputs": [],
   "source": [
    "import requests"
   ]
  },
  {
   "cell_type": "code",
   "execution_count": 35,
   "metadata": {},
   "outputs": [],
   "source": [
    "response = requests.request('GET', 'https://api.frankfurter.app/latest?amount=1&from=USD&to=EUR')"
   ]
  },
  {
   "cell_type": "code",
   "execution_count": 36,
   "metadata": {},
   "outputs": [
    {
     "data": {
      "text/plain": [
       "b'{\"amount\":1.0,\"base\":\"USD\",\"date\":\"2022-03-15\",\"rates\":{\"EUR\":0.90984}}'"
      ]
     },
     "execution_count": 36,
     "metadata": {},
     "output_type": "execute_result"
    }
   ],
   "source": [
    "response.content"
   ]
  },
  {
   "cell_type": "code",
   "execution_count": 38,
   "metadata": {},
   "outputs": [
    {
     "data": {
      "text/plain": [
       "{'amount': 1.0, 'base': 'USD', 'date': '2022-03-15', 'rates': {'EUR': 0.90984}}"
      ]
     },
     "execution_count": 38,
     "metadata": {},
     "output_type": "execute_result"
    }
   ],
   "source": [
    "data= response.json()\n",
    "data"
   ]
  },
  {
   "cell_type": "code",
   "execution_count": 66,
   "metadata": {},
   "outputs": [],
   "source": [
    "def trans():\n",
    "    x= float(input('money in dollars:'))\n",
    "    y= float(data ['rates']['EUR'])\n",
    "    print ('money in euro:=', x * y)"
   ]
  },
  {
   "cell_type": "code",
   "execution_count": 67,
   "metadata": {},
   "outputs": [
    {
     "name": "stdout",
     "output_type": "stream",
     "text": [
      "money in dollars:10\n",
      "money in euro:= 9.0984\n"
     ]
    }
   ],
   "source": [
    "trans()"
   ]
  },
  {
   "cell_type": "code",
   "execution_count": null,
   "metadata": {},
   "outputs": [],
   "source": []
  },
  {
   "cell_type": "code",
   "execution_count": 6,
   "metadata": {},
   "outputs": [],
   "source": [
    "response2= requests.request('GET','https://www.metaweather.com/api/location/1521894/')"
   ]
  },
  {
   "cell_type": "code",
   "execution_count": 7,
   "metadata": {},
   "outputs": [
    {
     "data": {
      "text/plain": [
       "b'{\"consolidated_weather\":[{\"id\":5577502933123072,\"weather_state_name\":\"Light Cloud\",\"weather_state_abbr\":\"lc\",\"wind_direction_compass\":\"NNE\",\"created\":\"2022-03-16T04:34:22.275109Z\",\"applicable_date\":\"2022-03-16\",\"min_temp\":8.030000000000001,\"max_temp\":19.935000000000002,\"the_temp\":17.47,\"wind_speed\":5.82822868318089,\"wind_direction\":24.999999999999996,\"air_pressure\":1026.5,\"humidity\":36,\"visibility\":12.017940229062276,\"predictability\":70},{\"id\":5411550287364096,\"weather_state_name\":\"Clear\",\"weather_state_abbr\":\"c\",\"wind_direction_compass\":\"NNE\",\"created\":\"2022-03-16T04:34:25.351717Z\",\"applicable_date\":\"2022-03-17\",\"min_temp\":7.525,\"max_temp\":21.825,\"the_temp\":18.165,\"wind_speed\":5.045764146859673,\"wind_direction\":19.5,\"air_pressure\":1024.5,\"humidity\":38,\"visibility\":12.96584198282033,\"predictability\":68},{\"id\":5147856710139904,\"weather_state_name\":\"Clear\",\"weather_state_abbr\":\"c\",\"wind_direction_compass\":\"N\",\"created\":\"2022-03-16T04:34:28.254329Z\",\"applicable_date\":\"2022-03-18\",\"min_temp\":8.91,\"max_temp\":23.939999999999998,\"the_temp\":19.355,\"wind_speed\":5.921995806378749,\"wind_direction\":3.3561712573392666,\"air_pressure\":1022.0,\"humidity\":47,\"visibility\":12.775391712399585,\"predictability\":68},{\"id\":6188183587913728,\"weather_state_name\":\"Light Cloud\",\"weather_state_abbr\":\"lc\",\"wind_direction_compass\":\"NNE\",\"created\":\"2022-03-16T04:34:31.247945Z\",\"applicable_date\":\"2022-03-19\",\"min_temp\":9.445,\"max_temp\":24.285,\"the_temp\":20.134999999999998,\"wind_speed\":7.479091752620694,\"wind_direction\":17.01418763895922,\"air_pressure\":1019.5,\"humidity\":49,\"visibility\":13.365072973832817,\"predictability\":70},{\"id\":5457189515821056,\"weather_state_name\":\"Light Cloud\",\"weather_state_abbr\":\"lc\",\"wind_direction_compass\":\"NE\",\"created\":\"2022-03-16T04:34:34.248274Z\",\"applicable_date\":\"2022-03-20\",\"min_temp\":11.005,\"max_temp\":21.049999999999997,\"the_temp\":19.015,\"wind_speed\":9.380481480532358,\"wind_direction\":35.281529760436015,\"air_pressure\":1017.0,\"humidity\":45,\"visibility\":13.102854330708661,\"predictability\":70},{\"id\":5216260104126464,\"weather_state_name\":\"Heavy Cloud\",\"weather_state_abbr\":\"hc\",\"wind_direction_compass\":\"NNE\",\"created\":\"2022-03-16T04:34:37.372484Z\",\"applicable_date\":\"2022-03-21\",\"min_temp\":9.684999999999999,\"max_temp\":19.21,\"the_temp\":16.41,\"wind_speed\":7.08466018452239,\"wind_direction\":13.999999999999984,\"air_pressure\":1014.0,\"humidity\":52,\"visibility\":9.999726596675416,\"predictability\":71}],\"time\":\"2022-03-16T07:51:15.043462+02:00\",\"sun_rise\":\"2022-03-16T06:03:58.509868+02:00\",\"sun_set\":\"2022-03-16T18:03:48.489891+02:00\",\"timezone_name\":\"LMT\",\"parent\":{\"title\":\"Egypt\",\"location_type\":\"Country\",\"woeid\":23424802,\"latt_long\":\"26.837090,30.796391\"},\"sources\":[{\"title\":\"BBC\",\"slug\":\"bbc\",\"url\":\"http://www.bbc.co.uk/weather/\",\"crawl_rate\":360},{\"title\":\"Forecast.io\",\"slug\":\"forecast-io\",\"url\":\"http://forecast.io/\",\"crawl_rate\":480},{\"title\":\"HAMweather\",\"slug\":\"hamweather\",\"url\":\"http://www.hamweather.com/\",\"crawl_rate\":360},{\"title\":\"Met Office\",\"slug\":\"met-office\",\"url\":\"http://www.metoffice.gov.uk/\",\"crawl_rate\":180},{\"title\":\"OpenWeatherMap\",\"slug\":\"openweathermap\",\"url\":\"http://openweathermap.org/\",\"crawl_rate\":360},{\"title\":\"Weather Underground\",\"slug\":\"wunderground\",\"url\":\"https://www.wunderground.com/?apiref=fc30dc3cd224e19b\",\"crawl_rate\":720},{\"title\":\"World Weather Online\",\"slug\":\"world-weather-online\",\"url\":\"http://www.worldweatheronline.com/\",\"crawl_rate\":360}],\"title\":\"Cairo\",\"location_type\":\"City\",\"woeid\":1521894,\"latt_long\":\"30.049950,31.248600\",\"timezone\":\"Africa/Cairo\"}'"
      ]
     },
     "execution_count": 7,
     "metadata": {},
     "output_type": "execute_result"
    }
   ],
   "source": [
    "response2.content"
   ]
  },
  {
   "cell_type": "code",
   "execution_count": 28,
   "metadata": {},
   "outputs": [],
   "source": [
    "data2= response.json()"
   ]
  },
  {
   "cell_type": "code",
   "execution_count": 73,
   "metadata": {
    "scrolled": false
   },
   "outputs": [
    {
     "data": {
      "text/plain": [
       "{'id': 5577502933123072,\n",
       " 'weather_state_name': 'Light Cloud',\n",
       " 'weather_state_abbr': 'lc',\n",
       " 'wind_direction_compass': 'NNE',\n",
       " 'created': '2022-03-16T04:34:22.275109Z',\n",
       " 'applicable_date': '2022-03-16',\n",
       " 'min_temp': 8.030000000000001,\n",
       " 'max_temp': 19.935000000000002,\n",
       " 'the_temp': 17.47,\n",
       " 'wind_speed': 5.82822868318089,\n",
       " 'wind_direction': 24.999999999999996,\n",
       " 'air_pressure': 1026.5,\n",
       " 'humidity': 36,\n",
       " 'visibility': 12.017940229062276,\n",
       " 'predictability': 70}"
      ]
     },
     "execution_count": 73,
     "metadata": {},
     "output_type": "execute_result"
    }
   ],
   "source": [
    "data2['consolidated_weather'][0], data2"
   ]
  },
  {
   "cell_type": "code",
   "execution_count": 76,
   "metadata": {},
   "outputs": [
    {
     "name": "stdout",
     "output_type": "stream",
     "text": [
      "id:5577502933123072,temperature: 17.47,humidity:36,visibility:12.017940229062276, air_pressure:1026.5, wind_speed: 5.82822868318089, datetime: 2022-03-16T04:34:22.275109Z\n",
      "id:5411550287364096,temperature: 18.165,humidity:38,visibility:12.96584198282033, air_pressure:1024.5, wind_speed: 5.045764146859673, datetime: 2022-03-16T04:34:25.351717Z\n",
      "id:5147856710139904,temperature: 19.355,humidity:47,visibility:12.775391712399585, air_pressure:1022.0, wind_speed: 5.921995806378749, datetime: 2022-03-16T04:34:28.254329Z\n",
      "id:6188183587913728,temperature: 20.134999999999998,humidity:49,visibility:13.365072973832817, air_pressure:1019.5, wind_speed: 7.479091752620694, datetime: 2022-03-16T04:34:31.247945Z\n",
      "id:5457189515821056,temperature: 19.015,humidity:45,visibility:13.102854330708661, air_pressure:1017.0, wind_speed: 9.380481480532358, datetime: 2022-03-16T04:34:34.248274Z\n",
      "id:5216260104126464,temperature: 16.41,humidity:52,visibility:9.999726596675416, air_pressure:1014.0, wind_speed: 7.08466018452239, datetime: 2022-03-16T04:34:37.372484Z\n"
     ]
    }
   ],
   "source": [
    "import csv\n",
    "for weather in data2['consolidated_weather']:\n",
    "    id_1= weather ['id']\n",
    "    temperature= weather ['the_temp']\n",
    "    humidity= weather['humidity']\n",
    "    visibility= weather['visibility']\n",
    "    air_pressure= weather['air_pressure']\n",
    "    wind_speed= weather['wind_speed']\n",
    "    datetime= weather['created']\n",
    "    print(f'id:{id_1},temperature: {temperature},humidity:{humidity},visibility:{visibility}, air_pressure:{air_pressure}, wind_speed: {wind_speed}, datetime: {datetime}')"
   ]
  },
  {
   "cell_type": "code",
   "execution_count": 79,
   "metadata": {},
   "outputs": [],
   "source": [
    "import csv\n",
    "with open('weather.csv','w',newline='') as f:\n",
    "    writer=csv.DictWriter(f,fieldnames=['id','temperature','humidity','visibility','air_pressure','wind_speed','datetime'])\n",
    "    writer.writeheader()\n",
    "    for weather in data2['consolidated_weather']:\n",
    "        id= weather ['id']\n",
    "        temperature= weather ['the_temp']\n",
    "        humidity= weather['humidity']\n",
    "        visibility= weather['visibility']\n",
    "        air_pressure= weather['air_pressure']\n",
    "        wind_speed= weather['wind_speed']\n",
    "        datetime= weather['created']\n",
    "        writer.writerow({'id':id_1,'temperature':temperature,'humidity':humidity,'visibility':visibility, 'air_pressure':air_pressure, 'wind_speed': wind_speed, 'datetime': datetime})"
   ]
  },
  {
   "cell_type": "code",
   "execution_count": null,
   "metadata": {},
   "outputs": [],
   "source": [
    "\n",
    "with open('weather.csv','w',newline='') as f:\n",
    "    writer=csv.DictWriter(f,fieldnames=['id','temperature','humidity','visibility','air_pressure','wind_speed','datetime'])\n",
    "    writer.writeheader()\n",
    "    for weather in data2['consolidated_weather']:\n",
    "        id= weather ['id']\n",
    "        temperature= weather ['the_temp']\n",
    "        humidity= weather['humidity']\n",
    "        visibility= weather['visibility']\n",
    "        air_pressure= weather['air_pressure']\n",
    "        wind_speed= weather['wind_speed']\n",
    "        datetime= weather['created']\n",
    "        writer.writerow({'id':id_1,'temperature':temperature,'humidity':humidity,'visibility':visibility, 'air_pressure':air_pressure, 'wind_speed': wind_speed, 'datetime': datetime})"
   ]
  },
  {
   "cell_type": "code",
   "execution_count": 82,
   "metadata": {},
   "outputs": [],
   "source": [
    "import pandas as pd"
   ]
  },
  {
   "cell_type": "code",
   "execution_count": 85,
   "metadata": {},
   "outputs": [],
   "source": [
    "df=pd.read_csv('weather.csv')"
   ]
  },
  {
   "cell_type": "code",
   "execution_count": 86,
   "metadata": {},
   "outputs": [],
   "source": [
    "df.to_excel(\"weather.xlsx\", sheet_name=\"Testing\", index=False)"
   ]
  }
 ],
 "metadata": {
  "kernelspec": {
   "display_name": "Python 3",
   "language": "python",
   "name": "python3"
  },
  "language_info": {
   "codemirror_mode": {
    "name": "ipython",
    "version": 3
   },
   "file_extension": ".py",
   "mimetype": "text/x-python",
   "name": "python",
   "nbconvert_exporter": "python",
   "pygments_lexer": "ipython3",
   "version": "3.7.6"
  }
 },
 "nbformat": 4,
 "nbformat_minor": 4
}
