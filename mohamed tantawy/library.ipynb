{
 "cells": [
  {
   "cell_type": "code",
   "execution_count": null,
   "metadata": {},
   "outputs": [
    {
     "name": "stdout",
     "output_type": "stream",
     "text": [
      " ======LIBRARY MENU=======\n",
      "                  1. Display all available books\n",
      "                  2. Request a book\n",
      "                  3. Return a book\n",
      "                  4. Exit\n",
      "                  \n",
      "Enter Choice:1\n",
      "The books we have in our library are as follows:\n",
      "================================\n",
      "The Last Battle\n",
      "The Screwtape letters\n",
      "The Great Divorce\n",
      " ======LIBRARY MENU=======\n",
      "                  1. Display all available books\n",
      "                  2. Request a book\n",
      "                  3. Return a book\n",
      "                  4. Exit\n",
      "                  \n",
      "Enter Choice:5\n",
      " ======LIBRARY MENU=======\n",
      "                  1. Display all available books\n",
      "                  2. Request a book\n",
      "                  3. Return a book\n",
      "                  4. Exit\n",
      "                  \n"
     ]
    }
   ],
   "source": [
    "class Library:\n",
    "      def __init__(self,listofbooks):\n",
    "            t has availablebooks (we're not going to program the shelves, and walls in!)\n",
    "            self.availablebooks=listofbooks\n",
    "\n",
    "      def displayAvailablebooks(self):\n",
    "                   print(\"The books we have in our library are as follows:\")\n",
    "                   print(\"================================\")\n",
    "                   for book in self.availablebooks:\n",
    "                         print(book)\n",
    "      def lendBook(self,requestedBook):\n",
    "            if requestedBook in self.availablebooks:\n",
    "                  print(\"The book you requested has now been borrowed\")\n",
    "                  self.availablebooks.remove(requestedBook)\n",
    "            else:\n",
    "                  print(\"Sorry the book you have requested is currently not in the library\")\n",
    "                  \n",
    "      def addBook(self,returnedBook):\n",
    "            self.availablebooks.append(returnedBook)\n",
    "            print(\"Thanks for returning your borrowed book\")\n",
    "            \n",
    "\n",
    "class Student:\n",
    "      def requestBook(self):\n",
    "            print(\"Enter the name of the book you'd like to borrow>>\")\n",
    "            self.book=input()\n",
    "            return self.book\n",
    "\n",
    "      def returnBook(self):\n",
    "            print(\"Enter the name of the book you'd like to return>>\")\n",
    "            self.book=input()\n",
    "            return self.book\n",
    "\n",
    "def main():            \n",
    "      library=Library([\"The Last Battle\",\"The Screwtape letters\",\"The Great Divorce\"])\n",
    "      student=Student()\n",
    "      done=False\n",
    "      while done==False:\n",
    "            print(\"\"\" ======LIBRARY MENU=======\n",
    "                  1. Display all available books\n",
    "                  2. Request a book\n",
    "                  3. Return a book\n",
    "                  4. Exit\n",
    "                  \"\"\")\n",
    "            choice=int(input(\"Enter Choice:\"))\n",
    "            if choice==1:\n",
    "                        library.displayAvailablebooks()\n",
    "            elif choice==2:\n",
    "                        library.lendBook(student.requestBook())\n",
    "            elif choice==3:\n",
    "                        library.addBook(student.returnBook())\n",
    "            elif choice==4:\n",
    "                  sys.exit()\n",
    "                  \n",
    "main()\n"
   ]
  },
  {
   "cell_type": "code",
   "execution_count": null,
   "metadata": {},
   "outputs": [],
   "source": []
  }
 ],
 "metadata": {
  "kernelspec": {
   "display_name": "Python 3",
   "language": "python",
   "name": "python3"
  },
  "language_info": {
   "codemirror_mode": {
    "name": "ipython",
    "version": 3
   },
   "file_extension": ".py",
   "mimetype": "text/x-python",
   "name": "python",
   "nbconvert_exporter": "python",
   "pygments_lexer": "ipython3",
   "version": "3.6.9"
  }
 },
 "nbformat": 4,
 "nbformat_minor": 2
}
