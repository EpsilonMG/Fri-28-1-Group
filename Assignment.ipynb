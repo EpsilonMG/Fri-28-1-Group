{
 "cells": [
  {
   "cell_type": "markdown",
   "metadata": {},
   "source": [
    "## Task 1"
   ]
  },
  {
   "cell_type": "code",
   "execution_count": 5,
   "metadata": {},
   "outputs": [],
   "source": [
    "import json\n",
    "import csv\n",
    "import requests\n",
    "import pandas as pd"
   ]
  },
  {
   "cell_type": "code",
   "execution_count": 17,
   "metadata": {},
   "outputs": [],
   "source": [
    "response=requests.get('https://api.frankfurter.app/latest?amount=1&from=USD&to=EUR')\n",
    "data=json.loads(response.text)"
   ]
  },
  {
   "cell_type": "code",
   "execution_count": 20,
   "metadata": {},
   "outputs": [
    {
     "data": {
      "text/plain": [
       "0.9049"
      ]
     },
     "execution_count": 20,
     "metadata": {},
     "output_type": "execute_result"
    }
   ],
   "source": [
    "data['rates']['EUR']"
   ]
  },
  {
   "cell_type": "code",
   "execution_count": 21,
   "metadata": {},
   "outputs": [
    {
     "name": "stdout",
     "output_type": "stream",
     "text": [
      "Enter your Money: 10\n",
      "your Money Exchanged to ==> 9.049 EUR\n"
     ]
    }
   ],
   "source": [
    "amount=int(input('Enter your Money: '))\n",
    "money=amount*data['rates']['EUR']\n",
    "print(f'your Money Exchanged to ==> {money} EUR')\n",
    "    "
   ]
  },
  {
   "cell_type": "markdown",
   "metadata": {},
   "source": [
    "## Task 2"
   ]
  },
  {
   "cell_type": "code",
   "execution_count": 54,
   "metadata": {},
   "outputs": [],
   "source": [
    "response=requests.get('https://www.metaweather.com/api/location/1521894/')\n",
    "data=json.loads(response.text)"
   ]
  },
  {
   "cell_type": "code",
   "execution_count": 88,
   "metadata": {},
   "outputs": [],
   "source": [
    "with open('Weather.csv','a',newline='') as f:\n",
    "    writer=csv.DictWriter(f,fieldnames=['Weather Temperature','Humidity','Visibility','Air Pressure','Wind Speed','Time'])\n",
    "    writer.writeheader()\n",
    "    for check in data['consolidated_weather']:\n",
    "        Weather_Temperature=check['the_temp']\n",
    "        Humidity=check['humidity']\n",
    "        Visibility=check['visibility']\n",
    "        Air_Pressure=check['air_pressure']\n",
    "        Wind_Speed=check['wind_speed']\n",
    "        DateTime1=check['created']\n",
    "        writer.writerow({'Weather Temperature':Weather_Temperature,'Humidity':Humidity,'Visibility':Visibility,'Air Pressure':Air_Pressure,'Wind Speed':Wind_Speed,'Time':DateTime1})\n",
    "df = pd.read_csv(\"Weather.csv\")\n",
    "df.to_excel(\"Weather.xlsx\", index=False)"
   ]
  },
  {
   "cell_type": "code",
   "execution_count": 83,
   "metadata": {},
   "outputs": [],
   "source": []
  },
  {
   "cell_type": "markdown",
   "metadata": {},
   "source": [
    "## Task 3"
   ]
  },
  {
   "cell_type": "code",
   "execution_count": 18,
   "metadata": {},
   "outputs": [],
   "source": [
    "response=requests.get('https://jsonplaceholder.typicode.com/users')\n",
    "data=json.loads(response.text)"
   ]
  },
  {
   "cell_type": "code",
   "execution_count": 20,
   "metadata": {},
   "outputs": [],
   "source": [
    "with open('users.csv','w',newline='')as f:\n",
    "    writer=csv.DictWriter(f, fieldnames=[\"name\", \"username\",\"email\", \"street\", \"suite\", \"city\", \"zip code\", \"geo_lat\",\"geo_long\"])\n",
    "    writer.writeheader()\n",
    "    for i in data:\n",
    "        writer.writerow({'name':i['name'],'username':i['username'],'email':i['email'],'street':i['address']['street'],'suite':i['address']['suite'],'city':i['address']['city'],'zip code':i['address']['zipcode'],'geo_lat':i[\"address\"]['geo']['lat'],'geo_long':i[\"address\"]['geo']['lng']})\n",
    "df = pd.read_csv(\"users.csv\")\n",
    "df.to_excel(\"users.xlsx\", index=False)    "
   ]
  },
  {
   "cell_type": "code",
   "execution_count": null,
   "metadata": {},
   "outputs": [],
   "source": []
  }
 ],
 "metadata": {
  "kernelspec": {
   "display_name": "Python 3",
   "language": "python",
   "name": "python3"
  },
  "language_info": {
   "codemirror_mode": {
    "name": "ipython",
    "version": 3
   },
   "file_extension": ".py",
   "mimetype": "text/x-python",
   "name": "python",
   "nbconvert_exporter": "python",
   "pygments_lexer": "ipython3",
   "version": "3.7.6"
  }
 },
 "nbformat": 4,
 "nbformat_minor": 5
}
