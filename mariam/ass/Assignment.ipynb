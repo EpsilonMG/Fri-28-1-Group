{
 "cells": [
  {
   "cell_type": "markdown",
   "metadata": {},
   "source": [
    "**Q1**\n",
    "\n",
    "let's make a small culculator get the first,second number from the user also get the operator (+,-,/,*) and use if to check the operator then to do the operation required based on the operator and print out the result\n",
    "\n",
    " EX:operator=='+' then add the 2 numbers \n"
   ]
  },
  {
   "cell_type": "code",
   "execution_count": 1,
   "metadata": {},
   "outputs": [
    {
     "name": "stdout",
     "output_type": "stream",
     "text": [
      "enter ur first number5\n",
      "enter ur another number6\n",
      "please enter ur operator*\n"
     ]
    }
   ],
   "source": [
    "first=int(input('enter ur first number'))\n",
    "second=int(input('enter ur another number'))\n",
    "sign=input('please enter ur operator')\n",
    "if sign =='+':\n",
    " result=first+second\n",
    "elif sign=='-': \n",
    "  result=first-second     \n",
    "elif sign=='/':  \n",
    " result=first/second\n",
    "elif sign=='*':\n",
    " result=first*second\n",
    "else:\n",
    " print(\"not found\")\n",
    "\n",
    "\n"
   ]
  },
  {
   "cell_type": "code",
   "execution_count": 2,
   "metadata": {},
   "outputs": [
    {
     "name": "stdout",
     "output_type": "stream",
     "text": [
      "ur result is:\n",
      "\n"
     ]
    }
   ],
   "source": [
    "print(\"ur result is:\\n\")"
   ]
  },
  {
   "cell_type": "code",
   "execution_count": 3,
   "metadata": {},
   "outputs": [
    {
     "data": {
      "text/plain": [
       "30"
      ]
     },
     "execution_count": 3,
     "metadata": {},
     "output_type": "execute_result"
    }
   ],
   "source": [
    "result"
   ]
  },
  {
   "cell_type": "markdown",
   "metadata": {},
   "source": [
    "**Q2**\n",
    "\n",
    "get a word from the user then Use if to print out the word repeated 3 times if it starts with 's' else print the word :**"
   ]
  },
  {
   "cell_type": "code",
   "execution_count": 4,
   "metadata": {},
   "outputs": [
    {
     "name": "stdout",
     "output_type": "stream",
     "text": [
      "Enter ur word\n",
      "senior\n",
      "seniorseniorsenior\n"
     ]
    }
   ],
   "source": [
    "user=input('Enter ur word\\n')\n",
    "\n",
    "if user[0]=='s':\n",
    " print(3*user)\n",
    "else:\n",
    " print('**')\n",
    "\n",
    "\n",
    "\n"
   ]
  },
  {
   "cell_type": "code",
   "execution_count": null,
   "metadata": {},
   "outputs": [],
   "source": []
  },
  {
   "cell_type": "code",
   "execution_count": null,
   "metadata": {},
   "outputs": [],
   "source": []
  },
  {
   "cell_type": "markdown",
   "metadata": {},
   "source": [
    "**Q3**\n",
    "\n",
    "1- open text file and write ' username:ds_jr' in the first line and 'password:89120&%'\n",
    "\n",
    "2-get the username and the password from the user and check if it equals the username and the password in the text file then print out 'hello ds_jr , welcome!' else print out 'not found'"
   ]
  },
  {
   "cell_type": "code",
   "execution_count": 20,
   "metadata": {},
   "outputs": [
    {
     "name": "stdout",
     "output_type": "stream",
     "text": [
      "please enter ur user namehji\n",
      "please enter ur password255\n"
     ]
    }
   ],
   "source": [
    "file=open('new assignment.txt','w+')\n",
    "file.writelines(['username:ds_jr\\n','password:89120&%\\n','counter:0'])\n",
    "user_name=input('please enter ur user name')\n",
    "user_pass=input('please enter ur password')"
   ]
  },
  {
   "cell_type": "code",
   "execution_count": 21,
   "metadata": {},
   "outputs": [
    {
     "name": "stdout",
     "output_type": "stream",
     "text": [
      "not found\n"
     ]
    }
   ],
   "source": [
    "file.seek(0)\n",
    "f=file.readlines()\n",
    "f1=f[0].split(':')\n",
    "f2=f[1].split(':')\n",
    "\n",
    "if f1[1][:-1]==user_name and f2[1]==user_pass :\n",
    " print('hello ds_jr , welcome!')\n",
    "else :\n",
    " print(\"not found\")"
   ]
  },
  {
   "cell_type": "code",
   "execution_count": 22,
   "metadata": {},
   "outputs": [],
   "source": [
    "file.close()"
   ]
  },
  {
   "cell_type": "markdown",
   "metadata": {},
   "source": [
    "**Q4**\n",
    "\n",
    "edit the code above to add a counter in the text file 'counter:0' that its value will increase every time the user try to log in   ( every check )    'counter:1' -->'counter:2' and so on."
   ]
  },
  {
   "cell_type": "code",
   "execution_count": 26,
   "metadata": {},
   "outputs": [
    {
     "name": "stdout",
     "output_type": "stream",
     "text": [
      "please enter ur user namemmkj\n",
      "please enter ur password266\n",
      "not found\n"
     ]
    },
    {
     "data": {
      "text/plain": [
       "['username:ds_jr\\n', 'password:89120&%\\n', 'counter:2\\n']"
      ]
     },
     "execution_count": 26,
     "metadata": {},
     "output_type": "execute_result"
    }
   ],
   "source": [
    "file=open('new assignment.txt','r+')\n",
    "user_name=input('please enter ur user name')\n",
    "user_pass=input('please enter ur password')\n",
    "file.seek(0)\n",
    "f=file.readlines()\n",
    "f1=f[0].split(':')\n",
    "f2=f[1].split(':')\n",
    "c=f[2].split(':')[1]\n",
    "c=str(int(c)+1)\n",
    "f[2]='counter:'+c+'\\n'\n",
    "if f1[1][:-1]==user_name and f2[1]==user_pass :\n",
    "  print('hello ds_jr , welcome!')\n",
    "else :\n",
    "  print(\"not found\")\n",
    "\n",
    "f\n",
    "\n"
   ]
  },
  {
   "cell_type": "code",
   "execution_count": 27,
   "metadata": {},
   "outputs": [],
   "source": [
    "file.seek(0)\n",
    "file.writelines(f)"
   ]
  },
  {
   "cell_type": "code",
   "execution_count": 28,
   "metadata": {},
   "outputs": [],
   "source": [
    "file.close()"
   ]
  },
  {
   "cell_type": "markdown",
   "metadata": {},
   "source": [
    "**Q5**\n",
    "search for a function that could remove the whitespace from the beginning and the end of the strings\n",
    "EX: '  Hello  ' ==>'Hello'\n",
    "and use it to update all the string values below\n",
    "\n"
   ]
  },
  {
   "cell_type": "code",
   "execution_count": 38,
   "metadata": {},
   "outputs": [
    {
     "data": {
      "text/plain": [
       "'heeeeeey!'"
      ]
     },
     "execution_count": 38,
     "metadata": {},
     "output_type": "execute_result"
    }
   ],
   "source": [
    "w='  heeeeeey! '\n",
    "w1='okay '\n",
    "w2='   nice to meet u    '\n",
    "l=['moh  ','  nada ',' jo ']\n",
    "d={'k1':'  nomoro  ','k2':' mmm  mmm   '}\n",
    "\n",
    "#code here\n",
    "\n",
    "w.strip()\n",
    "\n"
   ]
  },
  {
   "cell_type": "code",
   "execution_count": 39,
   "metadata": {},
   "outputs": [
    {
     "data": {
      "text/plain": [
       "'okay'"
      ]
     },
     "execution_count": 39,
     "metadata": {},
     "output_type": "execute_result"
    }
   ],
   "source": [
    "w1.rstrip()"
   ]
  },
  {
   "cell_type": "code",
   "execution_count": 40,
   "metadata": {},
   "outputs": [
    {
     "data": {
      "text/plain": [
       "'nice to meet u'"
      ]
     },
     "execution_count": 40,
     "metadata": {},
     "output_type": "execute_result"
    }
   ],
   "source": [
    "w2.strip()"
   ]
  },
  {
   "cell_type": "code",
   "execution_count": 62,
   "metadata": {},
   "outputs": [
    {
     "data": {
      "text/plain": [
       "['moh', 'nada', 'jo']"
      ]
     },
     "execution_count": 62,
     "metadata": {},
     "output_type": "execute_result"
    }
   ],
   "source": [
    "l[0]=l[0].strip()\n",
    "l[1]=l[1].strip()\n",
    "l[2]=l[2].strip()\n",
    "l"
   ]
  },
  {
   "cell_type": "code",
   "execution_count": 61,
   "metadata": {},
   "outputs": [
    {
     "data": {
      "text/plain": [
       "{'k1': 'nomoro', 'k2': 'mmm  mmm'}"
      ]
     },
     "execution_count": 61,
     "metadata": {},
     "output_type": "execute_result"
    }
   ],
   "source": [
    "d={'k1':d['k1'].strip(),'k2':d['k2'].strip()}\n",
    "d"
   ]
  },
  {
   "cell_type": "code",
   "execution_count": 26,
   "metadata": {},
   "outputs": [
    {
     "data": {
      "text/plain": [
       "'Doland'"
      ]
     },
     "execution_count": 26,
     "metadata": {},
     "output_type": "execute_result"
    }
   ],
   "source": [
    "name= \"mac doland\"\n",
    "namec=name.split()\n",
    "first_letter=namec[0][0]\n",
    "second_letter=namec[1][0].upper()\n",
    "first_letter.upper() \n",
    "m=namec[1][1:]\n",
    "c=second_letter+m\n",
    "c"
   ]
  },
  {
   "cell_type": "code",
   "execution_count": 38,
   "metadata": {},
   "outputs": [
    {
     "data": {
      "text/plain": [
       "'home am I'"
      ]
     },
     "execution_count": 38,
     "metadata": {},
     "output_type": "execute_result"
    }
   ],
   "source": [
    "text='I am home'\n",
    "m=[]\n",
    "m=text.split()\n",
    "m.reverse()\n",
    "c=' '.join(m)\n",
    "c"
   ]
  },
  {
   "cell_type": "code",
   "execution_count": 61,
   "metadata": {},
   "outputs": [
    {
     "data": {
      "text/plain": [
       "['hhh', 'eee', 'lll', 'lll', 'ooo']"
      ]
     },
     "execution_count": 61,
     "metadata": {},
     "output_type": "execute_result"
    }
   ],
   "source": [
    "text='hello'\n",
    "c=[]\n",
    "c[:0]=text\n",
    "for i in range(len(c)):\n",
    "    c[i]=c[i]*3\n",
    "c"
   ]
  },
  {
   "cell_type": "code",
   "execution_count": 57,
   "metadata": {},
   "outputs": [],
   "source": [
    "def Convert(string):\n",
    "    list1=[]\n",
    "    list1[:0]=string\n",
    "    return list1\n",
    "h=Convert('hello')"
   ]
  },
  {
   "cell_type": "code",
   "execution_count": 58,
   "metadata": {},
   "outputs": [
    {
     "data": {
      "text/plain": [
       "['h', 'e', 'l', 'l', 'o']"
      ]
     },
     "execution_count": 58,
     "metadata": {},
     "output_type": "execute_result"
    }
   ],
   "source": [
    "h"
   ]
  },
  {
   "cell_type": "code",
   "execution_count": 222,
   "metadata": {},
   "outputs": [
    {
     "name": "stdout",
     "output_type": "stream",
     "text": [
      "14\n"
     ]
    }
   ],
   "source": [
    "arr=[2, 1, 6, 9, 11]\n",
    "list=arr\n",
    "su=int()\n",
    "for i in range(len(arr)):\n",
    "    su+=arr[i]\n",
    "    if list[i]==6 and list[i+1]!=9 :\n",
    "        su-=arr[i]\n",
    "        break\n",
    "    elif list[i]==6 and list[i+1]==9:\n",
    "        su-=arr[i]\n",
    "        su-=arr[i+1]\n",
    "        continue\n",
    "        continue\n",
    "print(su)"
   ]
  },
  {
   "cell_type": "code",
   "execution_count": 191,
   "metadata": {},
   "outputs": [],
   "source": [
    "if list[i]==6 and list[i+1]==9:\n",
    "        print('errr',su)\n",
    "    elif list[i]==6:\n",
    "        print('only 6',su)\n",
    "    else:\n",
    "        su+=arr[i"
   ]
  },
  {
   "cell_type": "code",
   "execution_count": 178,
   "metadata": {},
   "outputs": [
    {
     "data": {
      "text/plain": [
       "5"
      ]
     },
     "execution_count": 178,
     "metadata": {},
     "output_type": "execute_result"
    }
   ],
   "source": [
    "summer_69([1, 3, 5])"
   ]
  },
  {
   "cell_type": "code",
   "execution_count": 165,
   "metadata": {},
   "outputs": [
    {
     "data": {
      "text/plain": [
       "95"
      ]
     },
     "execution_count": 165,
     "metadata": {},
     "output_type": "execute_result"
    }
   ],
   "source": [
    "m=95\n",
    "n=abs(95)\n",
    "n"
   ]
  },
  {
   "cell_type": "code",
   "execution_count": null,
   "metadata": {},
   "outputs": [],
   "source": []
  }
 ],
 "metadata": {
  "kernelspec": {
   "display_name": "Python 3",
   "language": "python",
   "name": "python3"
  },
  "language_info": {
   "codemirror_mode": {
    "name": "ipython",
    "version": 3
   },
   "file_extension": ".py",
   "mimetype": "text/x-python",
   "name": "python",
   "nbconvert_exporter": "python",
   "pygments_lexer": "ipython3",
   "version": "3.7.6"
  }
 },
 "nbformat": 4,
 "nbformat_minor": 5
}
