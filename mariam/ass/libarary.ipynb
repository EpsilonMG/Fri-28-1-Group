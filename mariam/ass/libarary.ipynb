{
 "cells": [
  {
   "cell_type": "code",
   "execution_count": 46,
   "metadata": {},
   "outputs": [],
   "source": [
    "class lib:\n",
    "    def __init__(self,book):\n",
    "        self.available_books=book\n",
    "        print('created')\n",
    "    def show(self):\n",
    "        for book in self.available_books:\n",
    "            print(book)\n",
    "    def lend_books(self,book):\n",
    "        if book in self.available_books:\n",
    "            self.available_books.remove(book)\n",
    "            print('here is ur book')\n",
    "        else:\n",
    "            print('not available')\n",
    "    def get_book(self,book):\n",
    "        self.available_books.append(book)\n",
    "        print('thanks for it')\n",
    "        \n",
    "        \n",
    "        "
   ]
  },
  {
   "cell_type": "code",
   "execution_count": 47,
   "metadata": {},
   "outputs": [],
   "source": [
    "class student:\n",
    "    def need_book(self):\n",
    "        book=input('enter ur book name')\n",
    "        return book\n",
    "    def return_book(self):\n",
    "        book=input('enter ur book name')\n",
    "        return book"
   ]
  },
  {
   "cell_type": "code",
   "execution_count": 48,
   "metadata": {},
   "outputs": [
    {
     "name": "stdout",
     "output_type": "stream",
     "text": [
      "created\n"
     ]
    }
   ],
   "source": [
    "lib1=lib(['m1','m2','m3','m4','m5'])"
   ]
  },
  {
   "cell_type": "code",
   "execution_count": 49,
   "metadata": {},
   "outputs": [
    {
     "name": "stdout",
     "output_type": "stream",
     "text": [
      "thanks for it\n"
     ]
    }
   ],
   "source": [
    "lib1.get_book('m6')"
   ]
  },
  {
   "cell_type": "code",
   "execution_count": 50,
   "metadata": {},
   "outputs": [
    {
     "name": "stdout",
     "output_type": "stream",
     "text": [
      "m1\n",
      "m2\n",
      "m3\n",
      "m4\n",
      "m5\n",
      "m6\n"
     ]
    }
   ],
   "source": [
    "lib1.show()"
   ]
  },
  {
   "cell_type": "code",
   "execution_count": 51,
   "metadata": {},
   "outputs": [
    {
     "name": "stdout",
     "output_type": "stream",
     "text": [
      "here is ur book\n"
     ]
    }
   ],
   "source": [
    "lib1.lend_books('m6')"
   ]
  },
  {
   "cell_type": "code",
   "execution_count": 57,
   "metadata": {},
   "outputs": [
    {
     "name": "stdout",
     "output_type": "stream",
     "text": [
      "thanks for it\n"
     ]
    }
   ],
   "source": [
    "lib1.get_book('m6')"
   ]
  },
  {
   "cell_type": "code",
   "execution_count": 52,
   "metadata": {},
   "outputs": [],
   "source": [
    "std1=student()"
   ]
  },
  {
   "cell_type": "code",
   "execution_count": 53,
   "metadata": {},
   "outputs": [
    {
     "name": "stdout",
     "output_type": "stream",
     "text": [
      "enter ur book name\n",
      "not available\n"
     ]
    }
   ],
   "source": [
    "lib1.lend_books(std1.need_book())"
   ]
  },
  {
   "cell_type": "code",
   "execution_count": 58,
   "metadata": {},
   "outputs": [
    {
     "name": "stdout",
     "output_type": "stream",
     "text": [
      "enter ur book namem7\n",
      "thanks for it\n"
     ]
    }
   ],
   "source": [
    "lib1.get_book(std1.return_book())"
   ]
  },
  {
   "cell_type": "code",
   "execution_count": 59,
   "metadata": {},
   "outputs": [
    {
     "name": "stdout",
     "output_type": "stream",
     "text": [
      "-------------------\n",
      "    1-Display Books\n",
      "    2-request book\n",
      "    3-return book\n",
      "    4-Exit\n",
      "    ------------------------\n",
      "3\n",
      "enter ur book namem8\n",
      "thanks for it\n",
      "-------------------\n",
      "    1-Display Books\n",
      "    2-request book\n",
      "    3-return book\n",
      "    4-Exit\n",
      "    ------------------------\n",
      "1\n",
      "m1\n",
      "m2\n",
      "m3\n",
      "m4\n",
      "m6\n",
      "m7\n",
      "m8\n",
      "-------------------\n",
      "    1-Display Books\n",
      "    2-request book\n",
      "    3-return book\n",
      "    4-Exit\n",
      "    ------------------------\n",
      "4\n"
     ]
    }
   ],
   "source": [
    "while(True):\n",
    "    print(\"\"\"-------------------\n",
    "    1-Display Books\n",
    "    2-request book\n",
    "    3-return book\n",
    "    4-Exit\n",
    "    ------------------------\"\"\")\n",
    "    \n",
    "    choice=int(input())\n",
    "    if choice==1:\n",
    "        lib1.show()\n",
    "    elif choice==2:\n",
    "        lib1.lend_books(std1.need_book())\n",
    "    elif choice==3:\n",
    "        lib1.get_book(std1.return_book())\n",
    "    elif choice==4:\n",
    "        break\n",
    "    \n",
    "    "
   ]
  },
  {
   "cell_type": "code",
   "execution_count": null,
   "metadata": {},
   "outputs": [],
   "source": []
  }
 ],
 "metadata": {
  "language_info": {
   "codemirror_mode": {
    "name": "ipython",
    "version": 3
   },
   "file_extension": ".py",
   "mimetype": "text/x-python",
   "name": "python",
   "nbconvert_exporter": "python",
   "pygments_lexer": "ipython3",
   "version": "3.7.6"
  }
 },
 "nbformat": 4,
 "nbformat_minor": 4
}
