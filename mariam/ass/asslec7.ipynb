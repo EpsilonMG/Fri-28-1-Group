{
 "cells": [
  {
   "cell_type": "code",
   "execution_count": 1,
   "metadata": {},
   "outputs": [],
   "source": [
    "import requests"
   ]
  },
  {
   "cell_type": "code",
   "execution_count": 203,
   "metadata": {},
   "outputs": [
    {
     "data": {
      "text/plain": [
       "b'{\"amount\":1.0,\"base\":\"USD\",\"date\":\"2022-03-16\",\"rates\":{\"EUR\":0.90959}}'"
      ]
     },
     "execution_count": 203,
     "metadata": {},
     "output_type": "execute_result"
    }
   ],
   "source": [
    "response=requests.request('GET','https://api.frankfurter.app/latest?amount=1&from=USD&to=EUR')\n",
    "response.content"
   ]
  },
  {
   "cell_type": "code",
   "execution_count": 204,
   "metadata": {},
   "outputs": [
    {
     "data": {
      "text/plain": [
       "bytes"
      ]
     },
     "execution_count": 204,
     "metadata": {},
     "output_type": "execute_result"
    }
   ],
   "source": [
    "type(response.content)"
   ]
  },
  {
   "cell_type": "code",
   "execution_count": 205,
   "metadata": {},
   "outputs": [
    {
     "data": {
      "text/plain": [
       "str"
      ]
     },
     "execution_count": 205,
     "metadata": {},
     "output_type": "execute_result"
    }
   ],
   "source": [
    "response.text\n",
    "type(response.text)"
   ]
  },
  {
   "cell_type": "code",
   "execution_count": 206,
   "metadata": {},
   "outputs": [],
   "source": [
    "data=response.json()\n"
   ]
  },
  {
   "cell_type": "code",
   "execution_count": 207,
   "metadata": {},
   "outputs": [
    {
     "data": {
      "text/plain": [
       "{'amount': 1.0, 'base': 'USD', 'date': '2022-03-16', 'rates': {'EUR': 0.90959}}"
      ]
     },
     "execution_count": 207,
     "metadata": {},
     "output_type": "execute_result"
    }
   ],
   "source": [
    "data"
   ]
  },
  {
   "cell_type": "code",
   "execution_count": 214,
   "metadata": {},
   "outputs": [
    {
     "name": "stdout",
     "output_type": "stream",
     "text": [
      "enter amount money u want to transfer100\n",
      "Ur money in EUR is 90.959\n"
     ]
    }
   ],
   "source": [
    "money=float(input('enter amount money u want to transfer'))\n",
    "total_money=data['amount']*data['rates']['EUR']*money\n",
    "print(f'Ur money in EUR is {total_money}')"
   ]
  },
  {
   "cell_type": "markdown",
   "metadata": {},
   "source": [
    "# task2"
   ]
  },
  {
   "cell_type": "code",
   "execution_count": 19,
   "metadata": {},
   "outputs": [
    {
     "data": {
      "text/plain": [
       "b'{\"consolidated_weather\":[{\"id\":5979781406392320,\"weather_state_name\":\"Clear\",\"weather_state_abbr\":\"c\",\"wind_direction_compass\":\"NNE\",\"created\":\"2022-03-16T19:34:22.945871Z\",\"applicable_date\":\"2022-03-16\",\"min_temp\":7.26,\"max_temp\":19.035,\"the_temp\":17.535,\"wind_speed\":5.855406638171743,\"wind_direction\":24.494364542183018,\"air_pressure\":1026.5,\"humidity\":37,\"visibility\":12.882578243060525,\"predictability\":68},{\"id\":5988117266825216,\"weather_state_name\":\"Clear\",\"weather_state_abbr\":\"c\",\"wind_direction_compass\":\"NNE\",\"created\":\"2022-03-16T19:34:26.083692Z\",\"applicable_date\":\"2022-03-17\",\"min_temp\":7.655,\"max_temp\":21.884999999999998,\"the_temp\":18.259999999999998,\"wind_speed\":5.0571541071184285,\"wind_direction\":22.999999999999996,\"air_pressure\":1024.5,\"humidity\":36,\"visibility\":13.171515847450886,\"predictability\":68},{\"id\":5305415974780928,\"weather_state_name\":\"Clear\",\"weather_state_abbr\":\"c\",\"wind_direction_compass\":\"NNE\",\"created\":\"2022-03-16T19:34:28.948436Z\",\"applicable_date\":\"2022-03-18\",\"min_temp\":8.725,\"max_temp\":24.060000000000002,\"the_temp\":19.43,\"wind_speed\":6.11347899097537,\"wind_direction\":27.500000000000004,\"air_pressure\":1022.0,\"humidity\":46,\"visibility\":12.887238527002307,\"predictability\":68},{\"id\":4727723009245184,\"weather_state_name\":\"Light Cloud\",\"weather_state_abbr\":\"lc\",\"wind_direction_compass\":\"NNE\",\"created\":\"2022-03-16T19:34:31.857746Z\",\"applicable_date\":\"2022-03-19\",\"min_temp\":9.835,\"max_temp\":24.119999999999997,\"the_temp\":20.405,\"wind_speed\":7.038379548153451,\"wind_direction\":24.000000000000004,\"air_pressure\":1018.5,\"humidity\":49,\"visibility\":13.321887675972322,\"predictability\":70},{\"id\":5713281772683264,\"weather_state_name\":\"Heavy Cloud\",\"weather_state_abbr\":\"hc\",\"wind_direction_compass\":\"NE\",\"created\":\"2022-03-16T19:34:35.252224Z\",\"applicable_date\":\"2022-03-20\",\"min_temp\":10.875,\"max_temp\":24.5,\"the_temp\":20.0,\"wind_speed\":7.777566065189958,\"wind_direction\":36.654379949503145,\"air_pressure\":1015.5,\"humidity\":47,\"visibility\":13.051280521752963,\"predictability\":71},{\"id\":6106009320816640,\"weather_state_name\":\"Heavy Cloud\",\"weather_state_abbr\":\"hc\",\"wind_direction_compass\":\"N\",\"created\":\"2022-03-16T19:34:38.170691Z\",\"applicable_date\":\"2022-03-21\",\"min_temp\":11.41,\"max_temp\":21.64,\"the_temp\":18.43,\"wind_speed\":9.101559492563428,\"wind_direction\":349.0,\"air_pressure\":1012.0,\"humidity\":54,\"visibility\":9.999726596675416,\"predictability\":71}],\"time\":\"2022-03-16T22:59:02.770248+02:00\",\"sun_rise\":\"2022-03-16T06:03:58.509868+02:00\",\"sun_set\":\"2022-03-16T18:03:48.489891+02:00\",\"timezone_name\":\"LMT\",\"parent\":{\"title\":\"Egypt\",\"location_type\":\"Country\",\"woeid\":23424802,\"latt_long\":\"26.837090,30.796391\"},\"sources\":[{\"title\":\"BBC\",\"slug\":\"bbc\",\"url\":\"http://www.bbc.co.uk/weather/\",\"crawl_rate\":360},{\"title\":\"Forecast.io\",\"slug\":\"forecast-io\",\"url\":\"http://forecast.io/\",\"crawl_rate\":480},{\"title\":\"HAMweather\",\"slug\":\"hamweather\",\"url\":\"http://www.hamweather.com/\",\"crawl_rate\":360},{\"title\":\"Met Office\",\"slug\":\"met-office\",\"url\":\"http://www.metoffice.gov.uk/\",\"crawl_rate\":180},{\"title\":\"OpenWeatherMap\",\"slug\":\"openweathermap\",\"url\":\"http://openweathermap.org/\",\"crawl_rate\":360},{\"title\":\"Weather Underground\",\"slug\":\"wunderground\",\"url\":\"https://www.wunderground.com/?apiref=fc30dc3cd224e19b\",\"crawl_rate\":720},{\"title\":\"World Weather Online\",\"slug\":\"world-weather-online\",\"url\":\"http://www.worldweatheronline.com/\",\"crawl_rate\":360}],\"title\":\"Cairo\",\"location_type\":\"City\",\"woeid\":1521894,\"latt_long\":\"30.049950,31.248600\",\"timezone\":\"Africa/Cairo\"}'"
      ]
     },
     "execution_count": 19,
     "metadata": {},
     "output_type": "execute_result"
    }
   ],
   "source": [
    "response=requests.request('GET','https://www.metaweather.com/api/location/1521894/')\n",
    "response.content"
   ]
  },
  {
   "cell_type": "code",
   "execution_count": 20,
   "metadata": {},
   "outputs": [
    {
     "data": {
      "text/plain": [
       "'{\"consolidated_weather\":[{\"id\":5979781406392320,\"weather_state_name\":\"Clear\",\"weather_state_abbr\":\"c\",\"wind_direction_compass\":\"NNE\",\"created\":\"2022-03-16T19:34:22.945871Z\",\"applicable_date\":\"2022-03-16\",\"min_temp\":7.26,\"max_temp\":19.035,\"the_temp\":17.535,\"wind_speed\":5.855406638171743,\"wind_direction\":24.494364542183018,\"air_pressure\":1026.5,\"humidity\":37,\"visibility\":12.882578243060525,\"predictability\":68},{\"id\":5988117266825216,\"weather_state_name\":\"Clear\",\"weather_state_abbr\":\"c\",\"wind_direction_compass\":\"NNE\",\"created\":\"2022-03-16T19:34:26.083692Z\",\"applicable_date\":\"2022-03-17\",\"min_temp\":7.655,\"max_temp\":21.884999999999998,\"the_temp\":18.259999999999998,\"wind_speed\":5.0571541071184285,\"wind_direction\":22.999999999999996,\"air_pressure\":1024.5,\"humidity\":36,\"visibility\":13.171515847450886,\"predictability\":68},{\"id\":5305415974780928,\"weather_state_name\":\"Clear\",\"weather_state_abbr\":\"c\",\"wind_direction_compass\":\"NNE\",\"created\":\"2022-03-16T19:34:28.948436Z\",\"applicable_date\":\"2022-03-18\",\"min_temp\":8.725,\"max_temp\":24.060000000000002,\"the_temp\":19.43,\"wind_speed\":6.11347899097537,\"wind_direction\":27.500000000000004,\"air_pressure\":1022.0,\"humidity\":46,\"visibility\":12.887238527002307,\"predictability\":68},{\"id\":4727723009245184,\"weather_state_name\":\"Light Cloud\",\"weather_state_abbr\":\"lc\",\"wind_direction_compass\":\"NNE\",\"created\":\"2022-03-16T19:34:31.857746Z\",\"applicable_date\":\"2022-03-19\",\"min_temp\":9.835,\"max_temp\":24.119999999999997,\"the_temp\":20.405,\"wind_speed\":7.038379548153451,\"wind_direction\":24.000000000000004,\"air_pressure\":1018.5,\"humidity\":49,\"visibility\":13.321887675972322,\"predictability\":70},{\"id\":5713281772683264,\"weather_state_name\":\"Heavy Cloud\",\"weather_state_abbr\":\"hc\",\"wind_direction_compass\":\"NE\",\"created\":\"2022-03-16T19:34:35.252224Z\",\"applicable_date\":\"2022-03-20\",\"min_temp\":10.875,\"max_temp\":24.5,\"the_temp\":20.0,\"wind_speed\":7.777566065189958,\"wind_direction\":36.654379949503145,\"air_pressure\":1015.5,\"humidity\":47,\"visibility\":13.051280521752963,\"predictability\":71},{\"id\":6106009320816640,\"weather_state_name\":\"Heavy Cloud\",\"weather_state_abbr\":\"hc\",\"wind_direction_compass\":\"N\",\"created\":\"2022-03-16T19:34:38.170691Z\",\"applicable_date\":\"2022-03-21\",\"min_temp\":11.41,\"max_temp\":21.64,\"the_temp\":18.43,\"wind_speed\":9.101559492563428,\"wind_direction\":349.0,\"air_pressure\":1012.0,\"humidity\":54,\"visibility\":9.999726596675416,\"predictability\":71}],\"time\":\"2022-03-16T22:59:02.770248+02:00\",\"sun_rise\":\"2022-03-16T06:03:58.509868+02:00\",\"sun_set\":\"2022-03-16T18:03:48.489891+02:00\",\"timezone_name\":\"LMT\",\"parent\":{\"title\":\"Egypt\",\"location_type\":\"Country\",\"woeid\":23424802,\"latt_long\":\"26.837090,30.796391\"},\"sources\":[{\"title\":\"BBC\",\"slug\":\"bbc\",\"url\":\"http://www.bbc.co.uk/weather/\",\"crawl_rate\":360},{\"title\":\"Forecast.io\",\"slug\":\"forecast-io\",\"url\":\"http://forecast.io/\",\"crawl_rate\":480},{\"title\":\"HAMweather\",\"slug\":\"hamweather\",\"url\":\"http://www.hamweather.com/\",\"crawl_rate\":360},{\"title\":\"Met Office\",\"slug\":\"met-office\",\"url\":\"http://www.metoffice.gov.uk/\",\"crawl_rate\":180},{\"title\":\"OpenWeatherMap\",\"slug\":\"openweathermap\",\"url\":\"http://openweathermap.org/\",\"crawl_rate\":360},{\"title\":\"Weather Underground\",\"slug\":\"wunderground\",\"url\":\"https://www.wunderground.com/?apiref=fc30dc3cd224e19b\",\"crawl_rate\":720},{\"title\":\"World Weather Online\",\"slug\":\"world-weather-online\",\"url\":\"http://www.worldweatheronline.com/\",\"crawl_rate\":360}],\"title\":\"Cairo\",\"location_type\":\"City\",\"woeid\":1521894,\"latt_long\":\"30.049950,31.248600\",\"timezone\":\"Africa/Cairo\"}'"
      ]
     },
     "execution_count": 20,
     "metadata": {},
     "output_type": "execute_result"
    }
   ],
   "source": [
    "response.text"
   ]
  },
  {
   "cell_type": "code",
   "execution_count": 22,
   "metadata": {},
   "outputs": [
    {
     "data": {
      "text/plain": [
       "dict"
      ]
     },
     "execution_count": 22,
     "metadata": {},
     "output_type": "execute_result"
    }
   ],
   "source": [
    "Data=response.json()\n",
    "type(Data)"
   ]
  },
  {
   "cell_type": "code",
   "execution_count": 23,
   "metadata": {
    "scrolled": false
   },
   "outputs": [
    {
     "data": {
      "text/plain": [
       "{'consolidated_weather': [{'id': 5979781406392320,\n",
       "   'weather_state_name': 'Clear',\n",
       "   'weather_state_abbr': 'c',\n",
       "   'wind_direction_compass': 'NNE',\n",
       "   'created': '2022-03-16T19:34:22.945871Z',\n",
       "   'applicable_date': '2022-03-16',\n",
       "   'min_temp': 7.26,\n",
       "   'max_temp': 19.035,\n",
       "   'the_temp': 17.535,\n",
       "   'wind_speed': 5.855406638171743,\n",
       "   'wind_direction': 24.494364542183018,\n",
       "   'air_pressure': 1026.5,\n",
       "   'humidity': 37,\n",
       "   'visibility': 12.882578243060525,\n",
       "   'predictability': 68},\n",
       "  {'id': 5988117266825216,\n",
       "   'weather_state_name': 'Clear',\n",
       "   'weather_state_abbr': 'c',\n",
       "   'wind_direction_compass': 'NNE',\n",
       "   'created': '2022-03-16T19:34:26.083692Z',\n",
       "   'applicable_date': '2022-03-17',\n",
       "   'min_temp': 7.655,\n",
       "   'max_temp': 21.884999999999998,\n",
       "   'the_temp': 18.259999999999998,\n",
       "   'wind_speed': 5.0571541071184285,\n",
       "   'wind_direction': 22.999999999999996,\n",
       "   'air_pressure': 1024.5,\n",
       "   'humidity': 36,\n",
       "   'visibility': 13.171515847450886,\n",
       "   'predictability': 68},\n",
       "  {'id': 5305415974780928,\n",
       "   'weather_state_name': 'Clear',\n",
       "   'weather_state_abbr': 'c',\n",
       "   'wind_direction_compass': 'NNE',\n",
       "   'created': '2022-03-16T19:34:28.948436Z',\n",
       "   'applicable_date': '2022-03-18',\n",
       "   'min_temp': 8.725,\n",
       "   'max_temp': 24.060000000000002,\n",
       "   'the_temp': 19.43,\n",
       "   'wind_speed': 6.11347899097537,\n",
       "   'wind_direction': 27.500000000000004,\n",
       "   'air_pressure': 1022.0,\n",
       "   'humidity': 46,\n",
       "   'visibility': 12.887238527002307,\n",
       "   'predictability': 68},\n",
       "  {'id': 4727723009245184,\n",
       "   'weather_state_name': 'Light Cloud',\n",
       "   'weather_state_abbr': 'lc',\n",
       "   'wind_direction_compass': 'NNE',\n",
       "   'created': '2022-03-16T19:34:31.857746Z',\n",
       "   'applicable_date': '2022-03-19',\n",
       "   'min_temp': 9.835,\n",
       "   'max_temp': 24.119999999999997,\n",
       "   'the_temp': 20.405,\n",
       "   'wind_speed': 7.038379548153451,\n",
       "   'wind_direction': 24.000000000000004,\n",
       "   'air_pressure': 1018.5,\n",
       "   'humidity': 49,\n",
       "   'visibility': 13.321887675972322,\n",
       "   'predictability': 70},\n",
       "  {'id': 5713281772683264,\n",
       "   'weather_state_name': 'Heavy Cloud',\n",
       "   'weather_state_abbr': 'hc',\n",
       "   'wind_direction_compass': 'NE',\n",
       "   'created': '2022-03-16T19:34:35.252224Z',\n",
       "   'applicable_date': '2022-03-20',\n",
       "   'min_temp': 10.875,\n",
       "   'max_temp': 24.5,\n",
       "   'the_temp': 20.0,\n",
       "   'wind_speed': 7.777566065189958,\n",
       "   'wind_direction': 36.654379949503145,\n",
       "   'air_pressure': 1015.5,\n",
       "   'humidity': 47,\n",
       "   'visibility': 13.051280521752963,\n",
       "   'predictability': 71},\n",
       "  {'id': 6106009320816640,\n",
       "   'weather_state_name': 'Heavy Cloud',\n",
       "   'weather_state_abbr': 'hc',\n",
       "   'wind_direction_compass': 'N',\n",
       "   'created': '2022-03-16T19:34:38.170691Z',\n",
       "   'applicable_date': '2022-03-21',\n",
       "   'min_temp': 11.41,\n",
       "   'max_temp': 21.64,\n",
       "   'the_temp': 18.43,\n",
       "   'wind_speed': 9.101559492563428,\n",
       "   'wind_direction': 349.0,\n",
       "   'air_pressure': 1012.0,\n",
       "   'humidity': 54,\n",
       "   'visibility': 9.999726596675416,\n",
       "   'predictability': 71}],\n",
       " 'time': '2022-03-16T22:59:02.770248+02:00',\n",
       " 'sun_rise': '2022-03-16T06:03:58.509868+02:00',\n",
       " 'sun_set': '2022-03-16T18:03:48.489891+02:00',\n",
       " 'timezone_name': 'LMT',\n",
       " 'parent': {'title': 'Egypt',\n",
       "  'location_type': 'Country',\n",
       "  'woeid': 23424802,\n",
       "  'latt_long': '26.837090,30.796391'},\n",
       " 'sources': [{'title': 'BBC',\n",
       "   'slug': 'bbc',\n",
       "   'url': 'http://www.bbc.co.uk/weather/',\n",
       "   'crawl_rate': 360},\n",
       "  {'title': 'Forecast.io',\n",
       "   'slug': 'forecast-io',\n",
       "   'url': 'http://forecast.io/',\n",
       "   'crawl_rate': 480},\n",
       "  {'title': 'HAMweather',\n",
       "   'slug': 'hamweather',\n",
       "   'url': 'http://www.hamweather.com/',\n",
       "   'crawl_rate': 360},\n",
       "  {'title': 'Met Office',\n",
       "   'slug': 'met-office',\n",
       "   'url': 'http://www.metoffice.gov.uk/',\n",
       "   'crawl_rate': 180},\n",
       "  {'title': 'OpenWeatherMap',\n",
       "   'slug': 'openweathermap',\n",
       "   'url': 'http://openweathermap.org/',\n",
       "   'crawl_rate': 360},\n",
       "  {'title': 'Weather Underground',\n",
       "   'slug': 'wunderground',\n",
       "   'url': 'https://www.wunderground.com/?apiref=fc30dc3cd224e19b',\n",
       "   'crawl_rate': 720},\n",
       "  {'title': 'World Weather Online',\n",
       "   'slug': 'world-weather-online',\n",
       "   'url': 'http://www.worldweatheronline.com/',\n",
       "   'crawl_rate': 360}],\n",
       " 'title': 'Cairo',\n",
       " 'location_type': 'City',\n",
       " 'woeid': 1521894,\n",
       " 'latt_long': '30.049950,31.248600',\n",
       " 'timezone': 'Africa/Cairo'}"
      ]
     },
     "execution_count": 23,
     "metadata": {},
     "output_type": "execute_result"
    }
   ],
   "source": [
    "Data"
   ]
  },
  {
   "cell_type": "code",
   "execution_count": 30,
   "metadata": {},
   "outputs": [
    {
     "data": {
      "text/plain": [
       "[{'id': 5979781406392320,\n",
       "  'weather_state_name': 'Clear',\n",
       "  'weather_state_abbr': 'c',\n",
       "  'wind_direction_compass': 'NNE',\n",
       "  'created': '2022-03-16T19:34:22.945871Z',\n",
       "  'applicable_date': '2022-03-16',\n",
       "  'min_temp': 7.26,\n",
       "  'max_temp': 19.035,\n",
       "  'the_temp': 17.535,\n",
       "  'wind_speed': 5.855406638171743,\n",
       "  'wind_direction': 24.494364542183018,\n",
       "  'air_pressure': 1026.5,\n",
       "  'humidity': 37,\n",
       "  'visibility': 12.882578243060525,\n",
       "  'predictability': 68},\n",
       " {'id': 5988117266825216,\n",
       "  'weather_state_name': 'Clear',\n",
       "  'weather_state_abbr': 'c',\n",
       "  'wind_direction_compass': 'NNE',\n",
       "  'created': '2022-03-16T19:34:26.083692Z',\n",
       "  'applicable_date': '2022-03-17',\n",
       "  'min_temp': 7.655,\n",
       "  'max_temp': 21.884999999999998,\n",
       "  'the_temp': 18.259999999999998,\n",
       "  'wind_speed': 5.0571541071184285,\n",
       "  'wind_direction': 22.999999999999996,\n",
       "  'air_pressure': 1024.5,\n",
       "  'humidity': 36,\n",
       "  'visibility': 13.171515847450886,\n",
       "  'predictability': 68},\n",
       " {'id': 5305415974780928,\n",
       "  'weather_state_name': 'Clear',\n",
       "  'weather_state_abbr': 'c',\n",
       "  'wind_direction_compass': 'NNE',\n",
       "  'created': '2022-03-16T19:34:28.948436Z',\n",
       "  'applicable_date': '2022-03-18',\n",
       "  'min_temp': 8.725,\n",
       "  'max_temp': 24.060000000000002,\n",
       "  'the_temp': 19.43,\n",
       "  'wind_speed': 6.11347899097537,\n",
       "  'wind_direction': 27.500000000000004,\n",
       "  'air_pressure': 1022.0,\n",
       "  'humidity': 46,\n",
       "  'visibility': 12.887238527002307,\n",
       "  'predictability': 68},\n",
       " {'id': 4727723009245184,\n",
       "  'weather_state_name': 'Light Cloud',\n",
       "  'weather_state_abbr': 'lc',\n",
       "  'wind_direction_compass': 'NNE',\n",
       "  'created': '2022-03-16T19:34:31.857746Z',\n",
       "  'applicable_date': '2022-03-19',\n",
       "  'min_temp': 9.835,\n",
       "  'max_temp': 24.119999999999997,\n",
       "  'the_temp': 20.405,\n",
       "  'wind_speed': 7.038379548153451,\n",
       "  'wind_direction': 24.000000000000004,\n",
       "  'air_pressure': 1018.5,\n",
       "  'humidity': 49,\n",
       "  'visibility': 13.321887675972322,\n",
       "  'predictability': 70},\n",
       " {'id': 5713281772683264,\n",
       "  'weather_state_name': 'Heavy Cloud',\n",
       "  'weather_state_abbr': 'hc',\n",
       "  'wind_direction_compass': 'NE',\n",
       "  'created': '2022-03-16T19:34:35.252224Z',\n",
       "  'applicable_date': '2022-03-20',\n",
       "  'min_temp': 10.875,\n",
       "  'max_temp': 24.5,\n",
       "  'the_temp': 20.0,\n",
       "  'wind_speed': 7.777566065189958,\n",
       "  'wind_direction': 36.654379949503145,\n",
       "  'air_pressure': 1015.5,\n",
       "  'humidity': 47,\n",
       "  'visibility': 13.051280521752963,\n",
       "  'predictability': 71},\n",
       " {'id': 6106009320816640,\n",
       "  'weather_state_name': 'Heavy Cloud',\n",
       "  'weather_state_abbr': 'hc',\n",
       "  'wind_direction_compass': 'N',\n",
       "  'created': '2022-03-16T19:34:38.170691Z',\n",
       "  'applicable_date': '2022-03-21',\n",
       "  'min_temp': 11.41,\n",
       "  'max_temp': 21.64,\n",
       "  'the_temp': 18.43,\n",
       "  'wind_speed': 9.101559492563428,\n",
       "  'wind_direction': 349.0,\n",
       "  'air_pressure': 1012.0,\n",
       "  'humidity': 54,\n",
       "  'visibility': 9.999726596675416,\n",
       "  'predictability': 71}]"
      ]
     },
     "execution_count": 30,
     "metadata": {},
     "output_type": "execute_result"
    }
   ],
   "source": [
    "Data['consolidated_weather']"
   ]
  },
  {
   "cell_type": "code",
   "execution_count": 177,
   "metadata": {},
   "outputs": [
    {
     "name": "stdout",
     "output_type": "stream",
     "text": [
      "temperature:17.535,humidity:37,Air_pressure:1026.5,Wind speed:5.855406638171743,data time:2022-03-16\n",
      "temperature:18.259999999999998,humidity:36,Air_pressure:1024.5,Wind speed:5.0571541071184285,data time:2022-03-17\n",
      "temperature:19.43,humidity:46,Air_pressure:1022.0,Wind speed:6.11347899097537,data time:2022-03-18\n",
      "temperature:20.405,humidity:49,Air_pressure:1018.5,Wind speed:7.038379548153451,data time:2022-03-19\n",
      "temperature:20.0,humidity:47,Air_pressure:1015.5,Wind speed:7.777566065189958,data time:2022-03-20\n",
      "temperature:18.43,humidity:54,Air_pressure:1012.0,Wind speed:9.101559492563428,data time:2022-03-21\n"
     ]
    }
   ],
   "source": [
    "for n in Data['consolidated_weather']:\n",
    "    print(f\"temperature:{n['the_temp']},humidity:{n['humidity']},Air_pressure:{n['air_pressure']},Wind speed:{n['wind_speed']},data time:{n['applicable_date']}\")"
   ]
  },
  {
   "cell_type": "code",
   "execution_count": 178,
   "metadata": {},
   "outputs": [],
   "source": [
    "import csv"
   ]
  },
  {
   "cell_type": "code",
   "execution_count": 181,
   "metadata": {},
   "outputs": [],
   "source": [
    "with open('weather.csv','w') as f:\n",
    "    writer=csv.DictWriter(f,fieldnames=['temperature','humidity','Air_pressure','Wind_speed','data_time'])\n",
    "    writer.writeheader()\n",
    "    for n in Data['consolidated_weather']:\n",
    "        temperature=n['the_temp']\n",
    "        humidity=n['humidity']\n",
    "        Air_pressure=n['air_pressure']\n",
    "        Wind_speed=n['wind_speed']\n",
    "        data_time=n['applicable_date']\n",
    "        writer.writerow({'temperature':temperature,'humidity':humidity,'Air_pressure':Air_pressure,'Wind_speed':Wind_speed,'data_time':data_time})\n",
    "        \n",
    "    "
   ]
  },
  {
   "cell_type": "code",
   "execution_count": null,
   "metadata": {},
   "outputs": [],
   "source": [
    "from csv import writer"
   ]
  },
  {
   "cell_type": "code",
   "execution_count": null,
   "metadata": {},
   "outputs": [],
   "source": [
    "with open('weather.csv','a') as f:\n",
    "    writer_object = writer(f)\n",
    "    for n in Data['consolidated_weather']:\n",
    "        temperature=n['the_temp']\n",
    "        humidity=n['humidity']\n",
    "        Air_pressure=n['air_pressure']\n",
    "        Wind_speed=n['wind_speed']\n",
    "        data_time=n['applicable_date']\n",
    "        list=[temperature,humidity,Air_pressure,Wind_speed,data_time]\n",
    "        writer_object.writerow(list)"
   ]
  },
  {
   "cell_type": "code",
   "execution_count": null,
   "metadata": {},
   "outputs": [],
   "source": [
    "import pandas as pd"
   ]
  },
  {
   "cell_type": "code",
   "execution_count": 217,
   "metadata": {},
   "outputs": [
    {
     "data": {
      "text/html": [
       "<div>\n",
       "<style scoped>\n",
       "    .dataframe tbody tr th:only-of-type {\n",
       "        vertical-align: middle;\n",
       "    }\n",
       "\n",
       "    .dataframe tbody tr th {\n",
       "        vertical-align: top;\n",
       "    }\n",
       "\n",
       "    .dataframe thead th {\n",
       "        text-align: right;\n",
       "    }\n",
       "</style>\n",
       "<table border=\"1\" class=\"dataframe\">\n",
       "  <thead>\n",
       "    <tr style=\"text-align: right;\">\n",
       "      <th></th>\n",
       "      <th>temperature</th>\n",
       "      <th>humidity</th>\n",
       "      <th>Air_pressure</th>\n",
       "      <th>Wind_speed</th>\n",
       "      <th>data_time</th>\n",
       "    </tr>\n",
       "  </thead>\n",
       "  <tbody>\n",
       "    <tr>\n",
       "      <th>0</th>\n",
       "      <td>18.005</td>\n",
       "      <td>37</td>\n",
       "      <td>1025.0</td>\n",
       "      <td>4.915009</td>\n",
       "      <td>2022-03-17</td>\n",
       "    </tr>\n",
       "    <tr>\n",
       "      <th>1</th>\n",
       "      <td>20.200</td>\n",
       "      <td>46</td>\n",
       "      <td>1021.5</td>\n",
       "      <td>6.159189</td>\n",
       "      <td>2022-03-18</td>\n",
       "    </tr>\n",
       "    <tr>\n",
       "      <th>2</th>\n",
       "      <td>19.965</td>\n",
       "      <td>46</td>\n",
       "      <td>1019.5</td>\n",
       "      <td>7.425739</td>\n",
       "      <td>2022-03-19</td>\n",
       "    </tr>\n",
       "    <tr>\n",
       "      <th>3</th>\n",
       "      <td>19.130</td>\n",
       "      <td>47</td>\n",
       "      <td>1017.0</td>\n",
       "      <td>9.323567</td>\n",
       "      <td>2022-03-20</td>\n",
       "    </tr>\n",
       "    <tr>\n",
       "      <th>4</th>\n",
       "      <td>16.550</td>\n",
       "      <td>52</td>\n",
       "      <td>1013.5</td>\n",
       "      <td>9.956063</td>\n",
       "      <td>2022-03-21</td>\n",
       "    </tr>\n",
       "    <tr>\n",
       "      <th>5</th>\n",
       "      <td>14.980</td>\n",
       "      <td>42</td>\n",
       "      <td>1017.0</td>\n",
       "      <td>6.461745</td>\n",
       "      <td>2022-03-22</td>\n",
       "    </tr>\n",
       "  </tbody>\n",
       "</table>\n",
       "</div>"
      ],
      "text/plain": [
       "   temperature  humidity  Air_pressure  Wind_speed   data_time\n",
       "0       18.005        37        1025.0    4.915009  2022-03-17\n",
       "1       20.200        46        1021.5    6.159189  2022-03-18\n",
       "2       19.965        46        1019.5    7.425739  2022-03-19\n",
       "3       19.130        47        1017.0    9.323567  2022-03-20\n",
       "4       16.550        52        1013.5    9.956063  2022-03-21\n",
       "5       14.980        42        1017.0    6.461745  2022-03-22"
      ]
     },
     "execution_count": 217,
     "metadata": {},
     "output_type": "execute_result"
    }
   ],
   "source": [
    "dataframe=pd.read_csv('weather.csv')\n",
    "dataframe"
   ]
  },
  {
   "cell_type": "markdown",
   "metadata": {},
   "source": [
    "# task3"
   ]
  },
  {
   "cell_type": "code",
   "execution_count": 66,
   "metadata": {},
   "outputs": [],
   "source": [
    "response3=requests.request('GET','https://jsonplaceholder.typicode.com/users')\n"
   ]
  },
  {
   "cell_type": "code",
   "execution_count": 67,
   "metadata": {},
   "outputs": [
    {
     "data": {
      "text/plain": [
       "'[\\n  {\\n    \"id\": 1,\\n    \"name\": \"Leanne Graham\",\\n    \"username\": \"Bret\",\\n    \"email\": \"Sincere@april.biz\",\\n    \"address\": {\\n      \"street\": \"Kulas Light\",\\n      \"suite\": \"Apt. 556\",\\n      \"city\": \"Gwenborough\",\\n      \"zipcode\": \"92998-3874\",\\n      \"geo\": {\\n        \"lat\": \"-37.3159\",\\n        \"lng\": \"81.1496\"\\n      }\\n    },\\n    \"phone\": \"1-770-736-8031 x56442\",\\n    \"website\": \"hildegard.org\",\\n    \"company\": {\\n      \"name\": \"Romaguera-Crona\",\\n      \"catchPhrase\": \"Multi-layered client-server neural-net\",\\n      \"bs\": \"harness real-time e-markets\"\\n    }\\n  },\\n  {\\n    \"id\": 2,\\n    \"name\": \"Ervin Howell\",\\n    \"username\": \"Antonette\",\\n    \"email\": \"Shanna@melissa.tv\",\\n    \"address\": {\\n      \"street\": \"Victor Plains\",\\n      \"suite\": \"Suite 879\",\\n      \"city\": \"Wisokyburgh\",\\n      \"zipcode\": \"90566-7771\",\\n      \"geo\": {\\n        \"lat\": \"-43.9509\",\\n        \"lng\": \"-34.4618\"\\n      }\\n    },\\n    \"phone\": \"010-692-6593 x09125\",\\n    \"website\": \"anastasia.net\",\\n    \"company\": {\\n      \"name\": \"Deckow-Crist\",\\n      \"catchPhrase\": \"Proactive didactic contingency\",\\n      \"bs\": \"synergize scalable supply-chains\"\\n    }\\n  },\\n  {\\n    \"id\": 3,\\n    \"name\": \"Clementine Bauch\",\\n    \"username\": \"Samantha\",\\n    \"email\": \"Nathan@yesenia.net\",\\n    \"address\": {\\n      \"street\": \"Douglas Extension\",\\n      \"suite\": \"Suite 847\",\\n      \"city\": \"McKenziehaven\",\\n      \"zipcode\": \"59590-4157\",\\n      \"geo\": {\\n        \"lat\": \"-68.6102\",\\n        \"lng\": \"-47.0653\"\\n      }\\n    },\\n    \"phone\": \"1-463-123-4447\",\\n    \"website\": \"ramiro.info\",\\n    \"company\": {\\n      \"name\": \"Romaguera-Jacobson\",\\n      \"catchPhrase\": \"Face to face bifurcated interface\",\\n      \"bs\": \"e-enable strategic applications\"\\n    }\\n  },\\n  {\\n    \"id\": 4,\\n    \"name\": \"Patricia Lebsack\",\\n    \"username\": \"Karianne\",\\n    \"email\": \"Julianne.OConner@kory.org\",\\n    \"address\": {\\n      \"street\": \"Hoeger Mall\",\\n      \"suite\": \"Apt. 692\",\\n      \"city\": \"South Elvis\",\\n      \"zipcode\": \"53919-4257\",\\n      \"geo\": {\\n        \"lat\": \"29.4572\",\\n        \"lng\": \"-164.2990\"\\n      }\\n    },\\n    \"phone\": \"493-170-9623 x156\",\\n    \"website\": \"kale.biz\",\\n    \"company\": {\\n      \"name\": \"Robel-Corkery\",\\n      \"catchPhrase\": \"Multi-tiered zero tolerance productivity\",\\n      \"bs\": \"transition cutting-edge web services\"\\n    }\\n  },\\n  {\\n    \"id\": 5,\\n    \"name\": \"Chelsey Dietrich\",\\n    \"username\": \"Kamren\",\\n    \"email\": \"Lucio_Hettinger@annie.ca\",\\n    \"address\": {\\n      \"street\": \"Skiles Walks\",\\n      \"suite\": \"Suite 351\",\\n      \"city\": \"Roscoeview\",\\n      \"zipcode\": \"33263\",\\n      \"geo\": {\\n        \"lat\": \"-31.8129\",\\n        \"lng\": \"62.5342\"\\n      }\\n    },\\n    \"phone\": \"(254)954-1289\",\\n    \"website\": \"demarco.info\",\\n    \"company\": {\\n      \"name\": \"Keebler LLC\",\\n      \"catchPhrase\": \"User-centric fault-tolerant solution\",\\n      \"bs\": \"revolutionize end-to-end systems\"\\n    }\\n  },\\n  {\\n    \"id\": 6,\\n    \"name\": \"Mrs. Dennis Schulist\",\\n    \"username\": \"Leopoldo_Corkery\",\\n    \"email\": \"Karley_Dach@jasper.info\",\\n    \"address\": {\\n      \"street\": \"Norberto Crossing\",\\n      \"suite\": \"Apt. 950\",\\n      \"city\": \"South Christy\",\\n      \"zipcode\": \"23505-1337\",\\n      \"geo\": {\\n        \"lat\": \"-71.4197\",\\n        \"lng\": \"71.7478\"\\n      }\\n    },\\n    \"phone\": \"1-477-935-8478 x6430\",\\n    \"website\": \"ola.org\",\\n    \"company\": {\\n      \"name\": \"Considine-Lockman\",\\n      \"catchPhrase\": \"Synchronised bottom-line interface\",\\n      \"bs\": \"e-enable innovative applications\"\\n    }\\n  },\\n  {\\n    \"id\": 7,\\n    \"name\": \"Kurtis Weissnat\",\\n    \"username\": \"Elwyn.Skiles\",\\n    \"email\": \"Telly.Hoeger@billy.biz\",\\n    \"address\": {\\n      \"street\": \"Rex Trail\",\\n      \"suite\": \"Suite 280\",\\n      \"city\": \"Howemouth\",\\n      \"zipcode\": \"58804-1099\",\\n      \"geo\": {\\n        \"lat\": \"24.8918\",\\n        \"lng\": \"21.8984\"\\n      }\\n    },\\n    \"phone\": \"210.067.6132\",\\n    \"website\": \"elvis.io\",\\n    \"company\": {\\n      \"name\": \"Johns Group\",\\n      \"catchPhrase\": \"Configurable multimedia task-force\",\\n      \"bs\": \"generate enterprise e-tailers\"\\n    }\\n  },\\n  {\\n    \"id\": 8,\\n    \"name\": \"Nicholas Runolfsdottir V\",\\n    \"username\": \"Maxime_Nienow\",\\n    \"email\": \"Sherwood@rosamond.me\",\\n    \"address\": {\\n      \"street\": \"Ellsworth Summit\",\\n      \"suite\": \"Suite 729\",\\n      \"city\": \"Aliyaview\",\\n      \"zipcode\": \"45169\",\\n      \"geo\": {\\n        \"lat\": \"-14.3990\",\\n        \"lng\": \"-120.7677\"\\n      }\\n    },\\n    \"phone\": \"586.493.6943 x140\",\\n    \"website\": \"jacynthe.com\",\\n    \"company\": {\\n      \"name\": \"Abernathy Group\",\\n      \"catchPhrase\": \"Implemented secondary concept\",\\n      \"bs\": \"e-enable extensible e-tailers\"\\n    }\\n  },\\n  {\\n    \"id\": 9,\\n    \"name\": \"Glenna Reichert\",\\n    \"username\": \"Delphine\",\\n    \"email\": \"Chaim_McDermott@dana.io\",\\n    \"address\": {\\n      \"street\": \"Dayna Park\",\\n      \"suite\": \"Suite 449\",\\n      \"city\": \"Bartholomebury\",\\n      \"zipcode\": \"76495-3109\",\\n      \"geo\": {\\n        \"lat\": \"24.6463\",\\n        \"lng\": \"-168.8889\"\\n      }\\n    },\\n    \"phone\": \"(775)976-6794 x41206\",\\n    \"website\": \"conrad.com\",\\n    \"company\": {\\n      \"name\": \"Yost and Sons\",\\n      \"catchPhrase\": \"Switchable contextually-based project\",\\n      \"bs\": \"aggregate real-time technologies\"\\n    }\\n  },\\n  {\\n    \"id\": 10,\\n    \"name\": \"Clementina DuBuque\",\\n    \"username\": \"Moriah.Stanton\",\\n    \"email\": \"Rey.Padberg@karina.biz\",\\n    \"address\": {\\n      \"street\": \"Kattie Turnpike\",\\n      \"suite\": \"Suite 198\",\\n      \"city\": \"Lebsackbury\",\\n      \"zipcode\": \"31428-2261\",\\n      \"geo\": {\\n        \"lat\": \"-38.2386\",\\n        \"lng\": \"57.2232\"\\n      }\\n    },\\n    \"phone\": \"024-648-3804\",\\n    \"website\": \"ambrose.net\",\\n    \"company\": {\\n      \"name\": \"Hoeger LLC\",\\n      \"catchPhrase\": \"Centralized empowering task-force\",\\n      \"bs\": \"target end-to-end models\"\\n    }\\n  }\\n]'"
      ]
     },
     "execution_count": 67,
     "metadata": {},
     "output_type": "execute_result"
    }
   ],
   "source": [
    "response3.text"
   ]
  },
  {
   "cell_type": "code",
   "execution_count": 84,
   "metadata": {},
   "outputs": [],
   "source": [
    "data=response3.json()"
   ]
  },
  {
   "cell_type": "code",
   "execution_count": 190,
   "metadata": {},
   "outputs": [
    {
     "name": "stdout",
     "output_type": "stream",
     "text": [
      "name:Leanne Graham,user name:Bret,e_mail:Sincere@april.biz,street:Kulas Light,suits:Apt. 556,city:Gwenborough,zip_code:92998-3874,geo_lat:-37.3159,geo_lng:81.1496\n",
      "name:Ervin Howell,user name:Antonette,e_mail:Shanna@melissa.tv,street:Victor Plains,suits:Suite 879,city:Wisokyburgh,zip_code:90566-7771,geo_lat:-43.9509,geo_lng:-34.4618\n",
      "name:Clementine Bauch,user name:Samantha,e_mail:Nathan@yesenia.net,street:Douglas Extension,suits:Suite 847,city:McKenziehaven,zip_code:59590-4157,geo_lat:-68.6102,geo_lng:-47.0653\n",
      "name:Patricia Lebsack,user name:Karianne,e_mail:Julianne.OConner@kory.org,street:Hoeger Mall,suits:Apt. 692,city:South Elvis,zip_code:53919-4257,geo_lat:29.4572,geo_lng:-164.2990\n",
      "name:Chelsey Dietrich,user name:Kamren,e_mail:Lucio_Hettinger@annie.ca,street:Skiles Walks,suits:Suite 351,city:Roscoeview,zip_code:33263,geo_lat:-31.8129,geo_lng:62.5342\n",
      "name:Mrs. Dennis Schulist,user name:Leopoldo_Corkery,e_mail:Karley_Dach@jasper.info,street:Norberto Crossing,suits:Apt. 950,city:South Christy,zip_code:23505-1337,geo_lat:-71.4197,geo_lng:71.7478\n",
      "name:Kurtis Weissnat,user name:Elwyn.Skiles,e_mail:Telly.Hoeger@billy.biz,street:Rex Trail,suits:Suite 280,city:Howemouth,zip_code:58804-1099,geo_lat:24.8918,geo_lng:21.8984\n",
      "name:Nicholas Runolfsdottir V,user name:Maxime_Nienow,e_mail:Sherwood@rosamond.me,street:Ellsworth Summit,suits:Suite 729,city:Aliyaview,zip_code:45169,geo_lat:-14.3990,geo_lng:-120.7677\n",
      "name:Glenna Reichert,user name:Delphine,e_mail:Chaim_McDermott@dana.io,street:Dayna Park,suits:Suite 449,city:Bartholomebury,zip_code:76495-3109,geo_lat:24.6463,geo_lng:-168.8889\n",
      "name:Clementina DuBuque,user name:Moriah.Stanton,e_mail:Rey.Padberg@karina.biz,street:Kattie Turnpike,suits:Suite 198,city:Lebsackbury,zip_code:31428-2261,geo_lat:-38.2386,geo_lng:57.2232\n"
     ]
    }
   ],
   "source": [
    "for string in data:\n",
    "    s=string\n",
    "    print(f\"name:{s['name']},user name:{s['username']},e_mail:{s['email']},street:{s['address']['street']},suits:{s['address']['suite']},city:{s['address']['city']},zip_code:{s['address']['zipcode']},geo_lat:{s['address']['geo']['lat']},geo_lng:{s['address']['geo']['lng']}\")"
   ]
  },
  {
   "cell_type": "code",
   "execution_count": 154,
   "metadata": {},
   "outputs": [],
   "source": [
    "import csv"
   ]
  },
  {
   "cell_type": "code",
   "execution_count": 201,
   "metadata": {},
   "outputs": [],
   "source": [
    "with open('users.csv','w',newline='')as f:\n",
    "    writer=csv.DictWriter(f,fieldnames=['name','user name','e_mail','street','suits','city','zip code','geo lat','geo lng'])\n",
    "    writer.writeheader()\n",
    "    for string in data:\n",
    "        s=string\n",
    "        name=s['name']\n",
    "        user_name=s['username']\n",
    "        e_mail=s['email']\n",
    "        street=s['address']['street']\n",
    "        suits=s['address']['suite']\n",
    "        city=s['address']['city']\n",
    "        zip_code=s['address']['zipcode']\n",
    "        geo_lat=s['address']['geo']['lat']\n",
    "        geo_lng=s['address']['geo']['lng']\n",
    "        writer.writerow({'name':name,'user name':user_name,'e_mail':e_mail,'street':street,'suits':suits,'city':city,'zip code':zip_code,'geo lat':geo_lat,'geo lng':geo_lng})"
   ]
  },
  {
   "cell_type": "code",
   "execution_count": 215,
   "metadata": {},
   "outputs": [],
   "source": [
    "import pandas as pd"
   ]
  },
  {
   "cell_type": "code",
   "execution_count": 216,
   "metadata": {},
   "outputs": [
    {
     "data": {
      "text/html": [
       "<div>\n",
       "<style scoped>\n",
       "    .dataframe tbody tr th:only-of-type {\n",
       "        vertical-align: middle;\n",
       "    }\n",
       "\n",
       "    .dataframe tbody tr th {\n",
       "        vertical-align: top;\n",
       "    }\n",
       "\n",
       "    .dataframe thead th {\n",
       "        text-align: right;\n",
       "    }\n",
       "</style>\n",
       "<table border=\"1\" class=\"dataframe\">\n",
       "  <thead>\n",
       "    <tr style=\"text-align: right;\">\n",
       "      <th></th>\n",
       "      <th>name</th>\n",
       "      <th>user name</th>\n",
       "      <th>e_mail</th>\n",
       "      <th>street</th>\n",
       "      <th>suits</th>\n",
       "      <th>city</th>\n",
       "      <th>zip code</th>\n",
       "      <th>geo lat</th>\n",
       "      <th>geo lng</th>\n",
       "    </tr>\n",
       "  </thead>\n",
       "  <tbody>\n",
       "    <tr>\n",
       "      <th>0</th>\n",
       "      <td>Leanne Graham</td>\n",
       "      <td>Bret</td>\n",
       "      <td>Sincere@april.biz</td>\n",
       "      <td>Kulas Light</td>\n",
       "      <td>Apt. 556</td>\n",
       "      <td>Gwenborough</td>\n",
       "      <td>92998-3874</td>\n",
       "      <td>-37.3159</td>\n",
       "      <td>81.1496</td>\n",
       "    </tr>\n",
       "    <tr>\n",
       "      <th>1</th>\n",
       "      <td>Ervin Howell</td>\n",
       "      <td>Antonette</td>\n",
       "      <td>Shanna@melissa.tv</td>\n",
       "      <td>Victor Plains</td>\n",
       "      <td>Suite 879</td>\n",
       "      <td>Wisokyburgh</td>\n",
       "      <td>90566-7771</td>\n",
       "      <td>-43.9509</td>\n",
       "      <td>-34.4618</td>\n",
       "    </tr>\n",
       "    <tr>\n",
       "      <th>2</th>\n",
       "      <td>Clementine Bauch</td>\n",
       "      <td>Samantha</td>\n",
       "      <td>Nathan@yesenia.net</td>\n",
       "      <td>Douglas Extension</td>\n",
       "      <td>Suite 847</td>\n",
       "      <td>McKenziehaven</td>\n",
       "      <td>59590-4157</td>\n",
       "      <td>-68.6102</td>\n",
       "      <td>-47.0653</td>\n",
       "    </tr>\n",
       "    <tr>\n",
       "      <th>3</th>\n",
       "      <td>Patricia Lebsack</td>\n",
       "      <td>Karianne</td>\n",
       "      <td>Julianne.OConner@kory.org</td>\n",
       "      <td>Hoeger Mall</td>\n",
       "      <td>Apt. 692</td>\n",
       "      <td>South Elvis</td>\n",
       "      <td>53919-4257</td>\n",
       "      <td>29.4572</td>\n",
       "      <td>-164.2990</td>\n",
       "    </tr>\n",
       "    <tr>\n",
       "      <th>4</th>\n",
       "      <td>Chelsey Dietrich</td>\n",
       "      <td>Kamren</td>\n",
       "      <td>Lucio_Hettinger@annie.ca</td>\n",
       "      <td>Skiles Walks</td>\n",
       "      <td>Suite 351</td>\n",
       "      <td>Roscoeview</td>\n",
       "      <td>33263</td>\n",
       "      <td>-31.8129</td>\n",
       "      <td>62.5342</td>\n",
       "    </tr>\n",
       "    <tr>\n",
       "      <th>5</th>\n",
       "      <td>Mrs. Dennis Schulist</td>\n",
       "      <td>Leopoldo_Corkery</td>\n",
       "      <td>Karley_Dach@jasper.info</td>\n",
       "      <td>Norberto Crossing</td>\n",
       "      <td>Apt. 950</td>\n",
       "      <td>South Christy</td>\n",
       "      <td>23505-1337</td>\n",
       "      <td>-71.4197</td>\n",
       "      <td>71.7478</td>\n",
       "    </tr>\n",
       "    <tr>\n",
       "      <th>6</th>\n",
       "      <td>Kurtis Weissnat</td>\n",
       "      <td>Elwyn.Skiles</td>\n",
       "      <td>Telly.Hoeger@billy.biz</td>\n",
       "      <td>Rex Trail</td>\n",
       "      <td>Suite 280</td>\n",
       "      <td>Howemouth</td>\n",
       "      <td>58804-1099</td>\n",
       "      <td>24.8918</td>\n",
       "      <td>21.8984</td>\n",
       "    </tr>\n",
       "    <tr>\n",
       "      <th>7</th>\n",
       "      <td>Nicholas Runolfsdottir V</td>\n",
       "      <td>Maxime_Nienow</td>\n",
       "      <td>Sherwood@rosamond.me</td>\n",
       "      <td>Ellsworth Summit</td>\n",
       "      <td>Suite 729</td>\n",
       "      <td>Aliyaview</td>\n",
       "      <td>45169</td>\n",
       "      <td>-14.3990</td>\n",
       "      <td>-120.7677</td>\n",
       "    </tr>\n",
       "    <tr>\n",
       "      <th>8</th>\n",
       "      <td>Glenna Reichert</td>\n",
       "      <td>Delphine</td>\n",
       "      <td>Chaim_McDermott@dana.io</td>\n",
       "      <td>Dayna Park</td>\n",
       "      <td>Suite 449</td>\n",
       "      <td>Bartholomebury</td>\n",
       "      <td>76495-3109</td>\n",
       "      <td>24.6463</td>\n",
       "      <td>-168.8889</td>\n",
       "    </tr>\n",
       "    <tr>\n",
       "      <th>9</th>\n",
       "      <td>Clementina DuBuque</td>\n",
       "      <td>Moriah.Stanton</td>\n",
       "      <td>Rey.Padberg@karina.biz</td>\n",
       "      <td>Kattie Turnpike</td>\n",
       "      <td>Suite 198</td>\n",
       "      <td>Lebsackbury</td>\n",
       "      <td>31428-2261</td>\n",
       "      <td>-38.2386</td>\n",
       "      <td>57.2232</td>\n",
       "    </tr>\n",
       "  </tbody>\n",
       "</table>\n",
       "</div>"
      ],
      "text/plain": [
       "                       name         user name                     e_mail  \\\n",
       "0             Leanne Graham              Bret          Sincere@april.biz   \n",
       "1              Ervin Howell         Antonette          Shanna@melissa.tv   \n",
       "2          Clementine Bauch          Samantha         Nathan@yesenia.net   \n",
       "3          Patricia Lebsack          Karianne  Julianne.OConner@kory.org   \n",
       "4          Chelsey Dietrich            Kamren   Lucio_Hettinger@annie.ca   \n",
       "5      Mrs. Dennis Schulist  Leopoldo_Corkery    Karley_Dach@jasper.info   \n",
       "6           Kurtis Weissnat      Elwyn.Skiles     Telly.Hoeger@billy.biz   \n",
       "7  Nicholas Runolfsdottir V     Maxime_Nienow       Sherwood@rosamond.me   \n",
       "8           Glenna Reichert          Delphine    Chaim_McDermott@dana.io   \n",
       "9        Clementina DuBuque    Moriah.Stanton     Rey.Padberg@karina.biz   \n",
       "\n",
       "              street      suits            city    zip code  geo lat   geo lng  \n",
       "0        Kulas Light   Apt. 556     Gwenborough  92998-3874 -37.3159   81.1496  \n",
       "1      Victor Plains  Suite 879     Wisokyburgh  90566-7771 -43.9509  -34.4618  \n",
       "2  Douglas Extension  Suite 847   McKenziehaven  59590-4157 -68.6102  -47.0653  \n",
       "3        Hoeger Mall   Apt. 692     South Elvis  53919-4257  29.4572 -164.2990  \n",
       "4       Skiles Walks  Suite 351      Roscoeview       33263 -31.8129   62.5342  \n",
       "5  Norberto Crossing   Apt. 950   South Christy  23505-1337 -71.4197   71.7478  \n",
       "6          Rex Trail  Suite 280       Howemouth  58804-1099  24.8918   21.8984  \n",
       "7   Ellsworth Summit  Suite 729       Aliyaview       45169 -14.3990 -120.7677  \n",
       "8         Dayna Park  Suite 449  Bartholomebury  76495-3109  24.6463 -168.8889  \n",
       "9    Kattie Turnpike  Suite 198     Lebsackbury  31428-2261 -38.2386   57.2232  "
      ]
     },
     "execution_count": 216,
     "metadata": {},
     "output_type": "execute_result"
    }
   ],
   "source": [
    "dataframe=pd.read_csv('users.csv')\n",
    "dataframe"
   ]
  },
  {
   "cell_type": "code",
   "execution_count": null,
   "metadata": {},
   "outputs": [],
   "source": []
  }
 ],
 "metadata": {
  "kernelspec": {
   "display_name": "Python 3",
   "language": "python",
   "name": "python3"
  },
  "language_info": {
   "codemirror_mode": {
    "name": "ipython",
    "version": 3
   },
   "file_extension": ".py",
   "mimetype": "text/x-python",
   "name": "python",
   "nbconvert_exporter": "python",
   "pygments_lexer": "ipython3",
   "version": "3.7.6"
  }
 },
 "nbformat": 4,
 "nbformat_minor": 4
}
