{
 "cells": [
  {
   "cell_type": "code",
   "execution_count": 129,
   "id": "63982642",
   "metadata": {},
   "outputs": [],
   "source": [
    "import os\n",
    "import random\n",
    "from pathlib import Path\n",
    "    \n",
    "    \n",
    "def lst_dic(folder_name):\n",
    "    try:\n",
    "        return os.listdir(folder_name)\n",
    "    except Exception as e:\n",
    "        print(e)\n",
    "\n",
    "def check_folder_exist(folder_name):\n",
    "    try:\n",
    "        if os.path.isdir(str(Path().absolute())+'/'+folder_name):\n",
    "            return os.listdir(folder_name)\n",
    "        else:\n",
    "            return False\n",
    "    except Exception as e:\n",
    "        print(e)\n",
    "\n",
    "def remove_half_files():\n",
    "    folder_name = input('Please enter folder name: ')\n",
    "    if len(folder_name) > 0:\n",
    "        is_exist = check_folder_exist(folder_name)\n",
    "        if is_exist:\n",
    "            lst_files = lst_dic(folder_name)\n",
    "            try:\n",
    "                for i in range(len(lst_files)//2):\n",
    "                    file = random.choice(lst_files)\n",
    "                    os.remove(folder_name+'/'+file)\n",
    "                    lst_files.remove(file)\n",
    "                print(str(len(lst_files)//2)+' Files removed \\nRemaning files:',\n",
    "                      ' '.join(lst_files))\n",
    "            except Exception as e:\n",
    "                print(e)\n",
    "        else:\n",
    "            print('Folder name is not exist')\n",
    "    else:\n",
    "        print('Invaild folder name')"
   ]
  },
  {
   "cell_type": "code",
   "execution_count": 130,
   "id": "4000d11e",
   "metadata": {},
   "outputs": [
    {
     "name": "stdout",
     "output_type": "stream",
     "text": [
      "Please enter folder name: universe\n",
      "0 Files removed \n",
      "Remaning files: cover012.png\n"
     ]
    }
   ],
   "source": [
    "remove_half_files()"
   ]
  },
  {
   "cell_type": "code",
   "execution_count": null,
   "id": "efde5fae",
   "metadata": {},
   "outputs": [],
   "source": []
  }
 ],
 "metadata": {
  "kernelspec": {
   "display_name": "Python 3",
   "language": "python",
   "name": "python3"
  },
  "language_info": {
   "codemirror_mode": {
    "name": "ipython",
    "version": 3
   },
   "file_extension": ".py",
   "mimetype": "text/x-python",
   "name": "python",
   "nbconvert_exporter": "python",
   "pygments_lexer": "ipython3",
   "version": "3.8.8"
  }
 },
 "nbformat": 4,
 "nbformat_minor": 5
}
