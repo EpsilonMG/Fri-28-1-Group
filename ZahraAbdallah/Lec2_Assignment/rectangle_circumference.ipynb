{
 "cells": [
  {
   "cell_type": "code",
   "execution_count": 1,
   "id": "45cc930e",
   "metadata": {},
   "outputs": [
    {
     "name": "stdout",
     "output_type": "stream",
     "text": [
      "Enter length of rectangle 2\n",
      "Enter width of rectangle 5\n",
      "Circumference of rectangle = 14.00\n"
     ]
    }
   ],
   "source": [
    "length = float(input(\"Enter length of rectangle \"))\n",
    "width = float(input(\"Enter width of rectangle \"))\n",
    "\n",
    "circumference = 2*(length+width)\n",
    "\n",
    "print(\"Circumference of rectangle = %.2f\"%circumference)"
   ]
  },
  {
   "cell_type": "code",
   "execution_count": null,
   "id": "baf8be8d",
   "metadata": {},
   "outputs": [],
   "source": []
  }
 ],
 "metadata": {
  "kernelspec": {
   "display_name": "Python 3",
   "language": "python",
   "name": "python3"
  },
  "language_info": {
   "codemirror_mode": {
    "name": "ipython",
    "version": 3
   },
   "file_extension": ".py",
   "mimetype": "text/x-python",
   "name": "python",
   "nbconvert_exporter": "python",
   "pygments_lexer": "ipython3",
   "version": "3.8.8"
  }
 },
 "nbformat": 4,
 "nbformat_minor": 5
}
