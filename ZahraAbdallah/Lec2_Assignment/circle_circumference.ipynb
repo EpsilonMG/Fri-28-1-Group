{
 "cells": [
  {
   "cell_type": "code",
   "execution_count": 1,
   "id": "09b91047",
   "metadata": {},
   "outputs": [
    {
     "name": "stdout",
     "output_type": "stream",
     "text": [
      "Enter radius of circle 2\n",
      "Circumference of circle = 12.57\n"
     ]
    }
   ],
   "source": [
    "import math \n",
    "\n",
    "radius = float(input(\"Enter radius of circle \"))\n",
    "circumference = 2 * math.pi * radius\n",
    "\n",
    "print(\"Circumference of circle = %.2f\"%circumference)"
   ]
  },
  {
   "cell_type": "code",
   "execution_count": null,
   "id": "f8f827e4",
   "metadata": {},
   "outputs": [],
   "source": []
  }
 ],
 "metadata": {
  "kernelspec": {
   "display_name": "Python 3",
   "language": "python",
   "name": "python3"
  },
  "language_info": {
   "codemirror_mode": {
    "name": "ipython",
    "version": 3
   },
   "file_extension": ".py",
   "mimetype": "text/x-python",
   "name": "python",
   "nbconvert_exporter": "python",
   "pygments_lexer": "ipython3",
   "version": "3.8.8"
  }
 },
 "nbformat": 4,
 "nbformat_minor": 5
}
